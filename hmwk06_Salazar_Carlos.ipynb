{
 "cells": [
  {
   "cell_type": "markdown",
   "metadata": {},
   "source": [
    "<a id='top'></a>\n",
    "\n",
    "# Homework 6: Bootstrapping, Hypothesis Testing, P-Hacking, and Simple Linear Regression \n",
    "***\n",
    "\n",
    "**Name**: CARLOS SALAZAR\n",
    "\n",
    "***\n",
    "\n",
    "This assignment is due on Moodle by **5 PM on Friday November 30**. Your solutions to theoretical questions should be done in Markdown/MathJax directly below the associated question.  Your solutions to computational questions should include any specified Python code and results as well as written commentary on your conclusions.  Remember that you are encouraged to discuss the problems with your instructors and classmates, but **you must write all code and solutions on your own**. \n",
    "\n",
    "**NOTES**: \n",
    "\n",
    "- Do **NOT** load or use any Python packages that are not available in Anaconda 3.6. \n",
    "- Some problems with code may be autograded.  If we provide a function API **do not** change it.  If we do not provide a function API then you're free to structure your code however you like. \n",
    "- Because you can technically evaluate notebook cells is a non-linear order, it's a good idea to do Cell $\\rightarrow$ Run All as a check before submitting your solutions.  That way if we need to run your code you will know that it will work as expected. \n",
    "- Submit only this Jupyter notebook to Moodle.  Do not compress it using tar, rar, zip, etc. \n",
    "- This should go without saying, but... For any question that asks you to calculate something, you **must show all work to receive credit**. Sparse or nonexistent work will receive sparse or nonexistent credit.\n",
    "\n",
    "---\n",
    "**Shortcuts:**  [Problem 1](#p1) | [Problem 2](#p2) | [Problem 3](#p3) | [Problem 4](#p4) | [Problem 5](#p5)\n",
    "\n",
    "---"
   ]
  },
  {
   "cell_type": "code",
   "execution_count": 5,
   "metadata": {
    "scrolled": true
   },
   "outputs": [],
   "source": [
    "import numpy as np\n",
    "import matplotlib.pyplot as plt\n",
    "import pandas as pd\n",
    "from scipy import stats\n",
    "import math\n",
    "%matplotlib inline"
   ]
  },
  {
   "cell_type": "markdown",
   "metadata": {},
   "source": [
    "---\n",
    "[Back to top](#top)\n",
    "<a id='p1'></a>\n",
    "\n",
    "### [20 points] Problem 1 - Hypothesis Testing: Find-the-Knowledge-Bug \n",
    "\n",
    "As part of your job as a seasoned data science consultant, companies often bring you in to supervise their less-experienced data science teams before new product roll-outs.  One one such occasion, you are hired by a medium-sized internet-sales company that is preparing to release a new line of smart-home products.  Prior to their product release the company wants to do a targeted ad campaign to drive traffic to their site on launch day. \n",
    "\n",
    "You are asked to pair-up and do some inference work with a new employee named Ketelbells McKnowsNoStats. At various points in your day you catch Ketelbells making the following mistakes.  In each case, clearly explain to Ketelbells why his testing setup or conclusion is incorrect. "
   ]
  },
  {
   "cell_type": "markdown",
   "metadata": {},
   "source": [
    "**Part A**: Ketelbells has pulled up some data on the characteristics of customers that visited the company's website over the previous month.  He wants to perform an analysis on the mean age of customers that visit the site.  Let $X$ be the random variable describing the age of a site visitor and suppose that the population mean for $X$ is $\\mu$. In particular, Ketelbells wants to see if the data suggests that the mean age of their customers is under 30 years old.   He decides to perform the test with a null hypothesis of $H_0: \\mu < 30$. "
   ]
  },
  {
   "cell_type": "markdown",
   "metadata": {},
   "source": [
    "Since Ketelbells wants to overturn that $\\mu = 30$ , so to convey that it is significantly evident that it is not 30, so we will have a counter to act as something else.\n",
    "$$\n",
    "e.g.\\\\  \n",
    "H_0: \\mu = 30\\\\\n",
    "H_1: \\mu < 30\n",
    "$$\n",
    "We need to have $H_0 : \\mu = 30 $ because we need an exact value to create a distribution. Saying that $ \\mu < 30 $ does not give us that."
   ]
  },
  {
   "cell_type": "markdown",
   "metadata": {},
   "source": [
    "**Part B**: After the wonderful explanation you gave him after the previous debacle, Ketelbells has seen the error in his ways and decides instead to do his hypothesis test with a null hypothesis of $H_0: \\bar{x} = 30$.  "
   ]
  },
  {
   "cell_type": "markdown",
   "metadata": {},
   "source": [
    "We need to be using a true mean and not $\\bar{x} $ since it represents the mean of the sample. The true mean will not have the same uncertainty as the sample mean."
   ]
  },
  {
   "cell_type": "markdown",
   "metadata": {},
   "source": [
    "**Part C**: Finally on track with reasonable hypotheses of $H_0: \\mu = 30$ and $H_1: \\mu < 30$, Ketelbells computes a p-value of $0.03$, and thus concludes that there is only a 3% probability that the null hypothesis is true. "
   ]
  },
  {
   "cell_type": "markdown",
   "metadata": {},
   "source": [
    "A p-value of .03 gives us that the null is true which means that it will lead us find the the probability of getting the received data with extreme results."
   ]
  },
  {
   "cell_type": "markdown",
   "metadata": {},
   "source": [
    "**Part D**: This time, with the hypotheses again $H_0: \\mu = 30$ and $H_1: \\mu < 30$, Ketelbells computes a normalized test-statistic of $z = -0.04$ for the mean age and concludes that since $z = -0.04 < 0.05$ there is sufficient statistical evidence at the $\\alpha = 0.05$ significance level that the mean age of their customers is less than 30.  "
   ]
  },
  {
   "cell_type": "markdown",
   "metadata": {},
   "source": [
    "Ketebells is comparing an alpha value to a z-value which contradicts that facts that you should compare with z-critical otherwise you'll need a p-value if you compare to the alpha value."
   ]
  },
  {
   "cell_type": "markdown",
   "metadata": {},
   "source": [
    "---\n",
    "[Back to top](#top)\n",
    "<a id='p2'></a>\n",
    "\n",
    "### [20 points] Problem 2 - Evaluating Vehicle Performance \n",
    "\n",
    "A [1983 study](http://citeseerx.ist.psu.edu/viewdoc/download?doi=10.1.1.34.6358&rep=rep1&type=pdf) evaluated the gas mileage of a variety of cars manufactured between 1970 and 1983. The study also compiled other interesting attributes for each vehicle, but we will focus on the number of cylinders in the engine for this problem. More information on the data is available [here](https://archive.ics.uci.edu/ml/machine-learning-databases/auto-mpg/). Gas mileage is measured in miles-per-gallon, or mpg.\n",
    "\n",
    "**Part A:** Read the data set and store as a Pandas data frame. You will need figure out what additional arguments to `pd.read_csv()` must be provided in order to read the data set properly.\n",
    "\n",
    "Then, be sure to give all of the columns informative names, if they do not already have some.\n",
    "\n",
    "Finally, use `drop_na()` to drop any rows with missing values. Missing values are reported with a \"?\"."
   ]
  },
  {
   "cell_type": "code",
   "execution_count": 56,
   "metadata": {},
   "outputs": [
    {
     "data": {
      "text/html": [
       "<div>\n",
       "<style scoped>\n",
       "    .dataframe tbody tr th:only-of-type {\n",
       "        vertical-align: middle;\n",
       "    }\n",
       "\n",
       "    .dataframe tbody tr th {\n",
       "        vertical-align: top;\n",
       "    }\n",
       "\n",
       "    .dataframe thead th {\n",
       "        text-align: right;\n",
       "    }\n",
       "</style>\n",
       "<table border=\"1\" class=\"dataframe\">\n",
       "  <thead>\n",
       "    <tr style=\"text-align: right;\">\n",
       "      <th></th>\n",
       "      <th>mpg</th>\n",
       "      <th>cylinders</th>\n",
       "      <th>displacement</th>\n",
       "      <th>horsepower</th>\n",
       "      <th>weight</th>\n",
       "      <th>acceleration</th>\n",
       "      <th>model year</th>\n",
       "      <th>origin</th>\n",
       "      <th>car name</th>\n",
       "    </tr>\n",
       "  </thead>\n",
       "  <tbody>\n",
       "    <tr>\n",
       "      <th>0</th>\n",
       "      <td>18.0</td>\n",
       "      <td>8</td>\n",
       "      <td>307.0</td>\n",
       "      <td>130.0</td>\n",
       "      <td>3504.0</td>\n",
       "      <td>12.0</td>\n",
       "      <td>70</td>\n",
       "      <td>1</td>\n",
       "      <td>chevrolet chevelle malibu</td>\n",
       "    </tr>\n",
       "    <tr>\n",
       "      <th>1</th>\n",
       "      <td>15.0</td>\n",
       "      <td>8</td>\n",
       "      <td>350.0</td>\n",
       "      <td>165.0</td>\n",
       "      <td>3693.0</td>\n",
       "      <td>11.5</td>\n",
       "      <td>70</td>\n",
       "      <td>1</td>\n",
       "      <td>buick skylark 320</td>\n",
       "    </tr>\n",
       "    <tr>\n",
       "      <th>2</th>\n",
       "      <td>18.0</td>\n",
       "      <td>8</td>\n",
       "      <td>318.0</td>\n",
       "      <td>150.0</td>\n",
       "      <td>3436.0</td>\n",
       "      <td>11.0</td>\n",
       "      <td>70</td>\n",
       "      <td>1</td>\n",
       "      <td>plymouth satellite</td>\n",
       "    </tr>\n",
       "    <tr>\n",
       "      <th>3</th>\n",
       "      <td>16.0</td>\n",
       "      <td>8</td>\n",
       "      <td>304.0</td>\n",
       "      <td>150.0</td>\n",
       "      <td>3433.0</td>\n",
       "      <td>12.0</td>\n",
       "      <td>70</td>\n",
       "      <td>1</td>\n",
       "      <td>amc rebel sst</td>\n",
       "    </tr>\n",
       "    <tr>\n",
       "      <th>4</th>\n",
       "      <td>17.0</td>\n",
       "      <td>8</td>\n",
       "      <td>302.0</td>\n",
       "      <td>140.0</td>\n",
       "      <td>3449.0</td>\n",
       "      <td>10.5</td>\n",
       "      <td>70</td>\n",
       "      <td>1</td>\n",
       "      <td>ford torino</td>\n",
       "    </tr>\n",
       "    <tr>\n",
       "      <th>5</th>\n",
       "      <td>15.0</td>\n",
       "      <td>8</td>\n",
       "      <td>429.0</td>\n",
       "      <td>198.0</td>\n",
       "      <td>4341.0</td>\n",
       "      <td>10.0</td>\n",
       "      <td>70</td>\n",
       "      <td>1</td>\n",
       "      <td>ford galaxie 500</td>\n",
       "    </tr>\n",
       "    <tr>\n",
       "      <th>6</th>\n",
       "      <td>14.0</td>\n",
       "      <td>8</td>\n",
       "      <td>454.0</td>\n",
       "      <td>220.0</td>\n",
       "      <td>4354.0</td>\n",
       "      <td>9.0</td>\n",
       "      <td>70</td>\n",
       "      <td>1</td>\n",
       "      <td>chevrolet impala</td>\n",
       "    </tr>\n",
       "    <tr>\n",
       "      <th>7</th>\n",
       "      <td>14.0</td>\n",
       "      <td>8</td>\n",
       "      <td>440.0</td>\n",
       "      <td>215.0</td>\n",
       "      <td>4312.0</td>\n",
       "      <td>8.5</td>\n",
       "      <td>70</td>\n",
       "      <td>1</td>\n",
       "      <td>plymouth fury iii</td>\n",
       "    </tr>\n",
       "    <tr>\n",
       "      <th>8</th>\n",
       "      <td>14.0</td>\n",
       "      <td>8</td>\n",
       "      <td>455.0</td>\n",
       "      <td>225.0</td>\n",
       "      <td>4425.0</td>\n",
       "      <td>10.0</td>\n",
       "      <td>70</td>\n",
       "      <td>1</td>\n",
       "      <td>pontiac catalina</td>\n",
       "    </tr>\n",
       "    <tr>\n",
       "      <th>9</th>\n",
       "      <td>15.0</td>\n",
       "      <td>8</td>\n",
       "      <td>390.0</td>\n",
       "      <td>190.0</td>\n",
       "      <td>3850.0</td>\n",
       "      <td>8.5</td>\n",
       "      <td>70</td>\n",
       "      <td>1</td>\n",
       "      <td>amc ambassador dpl</td>\n",
       "    </tr>\n",
       "    <tr>\n",
       "      <th>10</th>\n",
       "      <td>15.0</td>\n",
       "      <td>8</td>\n",
       "      <td>383.0</td>\n",
       "      <td>170.0</td>\n",
       "      <td>3563.0</td>\n",
       "      <td>10.0</td>\n",
       "      <td>70</td>\n",
       "      <td>1</td>\n",
       "      <td>dodge challenger se</td>\n",
       "    </tr>\n",
       "    <tr>\n",
       "      <th>11</th>\n",
       "      <td>14.0</td>\n",
       "      <td>8</td>\n",
       "      <td>340.0</td>\n",
       "      <td>160.0</td>\n",
       "      <td>3609.0</td>\n",
       "      <td>8.0</td>\n",
       "      <td>70</td>\n",
       "      <td>1</td>\n",
       "      <td>plymouth 'cuda 340</td>\n",
       "    </tr>\n",
       "    <tr>\n",
       "      <th>12</th>\n",
       "      <td>15.0</td>\n",
       "      <td>8</td>\n",
       "      <td>400.0</td>\n",
       "      <td>150.0</td>\n",
       "      <td>3761.0</td>\n",
       "      <td>9.5</td>\n",
       "      <td>70</td>\n",
       "      <td>1</td>\n",
       "      <td>chevrolet monte carlo</td>\n",
       "    </tr>\n",
       "    <tr>\n",
       "      <th>13</th>\n",
       "      <td>14.0</td>\n",
       "      <td>8</td>\n",
       "      <td>455.0</td>\n",
       "      <td>225.0</td>\n",
       "      <td>3086.0</td>\n",
       "      <td>10.0</td>\n",
       "      <td>70</td>\n",
       "      <td>1</td>\n",
       "      <td>buick estate wagon (sw)</td>\n",
       "    </tr>\n",
       "    <tr>\n",
       "      <th>14</th>\n",
       "      <td>24.0</td>\n",
       "      <td>4</td>\n",
       "      <td>113.0</td>\n",
       "      <td>95.00</td>\n",
       "      <td>2372.0</td>\n",
       "      <td>15.0</td>\n",
       "      <td>70</td>\n",
       "      <td>3</td>\n",
       "      <td>toyota corona mark ii</td>\n",
       "    </tr>\n",
       "    <tr>\n",
       "      <th>15</th>\n",
       "      <td>22.0</td>\n",
       "      <td>6</td>\n",
       "      <td>198.0</td>\n",
       "      <td>95.00</td>\n",
       "      <td>2833.0</td>\n",
       "      <td>15.5</td>\n",
       "      <td>70</td>\n",
       "      <td>1</td>\n",
       "      <td>plymouth duster</td>\n",
       "    </tr>\n",
       "    <tr>\n",
       "      <th>16</th>\n",
       "      <td>18.0</td>\n",
       "      <td>6</td>\n",
       "      <td>199.0</td>\n",
       "      <td>97.00</td>\n",
       "      <td>2774.0</td>\n",
       "      <td>15.5</td>\n",
       "      <td>70</td>\n",
       "      <td>1</td>\n",
       "      <td>amc hornet</td>\n",
       "    </tr>\n",
       "    <tr>\n",
       "      <th>17</th>\n",
       "      <td>21.0</td>\n",
       "      <td>6</td>\n",
       "      <td>200.0</td>\n",
       "      <td>85.00</td>\n",
       "      <td>2587.0</td>\n",
       "      <td>16.0</td>\n",
       "      <td>70</td>\n",
       "      <td>1</td>\n",
       "      <td>ford maverick</td>\n",
       "    </tr>\n",
       "    <tr>\n",
       "      <th>18</th>\n",
       "      <td>27.0</td>\n",
       "      <td>4</td>\n",
       "      <td>97.0</td>\n",
       "      <td>88.00</td>\n",
       "      <td>2130.0</td>\n",
       "      <td>14.5</td>\n",
       "      <td>70</td>\n",
       "      <td>3</td>\n",
       "      <td>datsun pl510</td>\n",
       "    </tr>\n",
       "    <tr>\n",
       "      <th>19</th>\n",
       "      <td>26.0</td>\n",
       "      <td>4</td>\n",
       "      <td>97.0</td>\n",
       "      <td>46.00</td>\n",
       "      <td>1835.0</td>\n",
       "      <td>20.5</td>\n",
       "      <td>70</td>\n",
       "      <td>2</td>\n",
       "      <td>volkswagen 1131 deluxe sedan</td>\n",
       "    </tr>\n",
       "    <tr>\n",
       "      <th>20</th>\n",
       "      <td>25.0</td>\n",
       "      <td>4</td>\n",
       "      <td>110.0</td>\n",
       "      <td>87.00</td>\n",
       "      <td>2672.0</td>\n",
       "      <td>17.5</td>\n",
       "      <td>70</td>\n",
       "      <td>2</td>\n",
       "      <td>peugeot 504</td>\n",
       "    </tr>\n",
       "    <tr>\n",
       "      <th>21</th>\n",
       "      <td>24.0</td>\n",
       "      <td>4</td>\n",
       "      <td>107.0</td>\n",
       "      <td>90.00</td>\n",
       "      <td>2430.0</td>\n",
       "      <td>14.5</td>\n",
       "      <td>70</td>\n",
       "      <td>2</td>\n",
       "      <td>audi 100 ls</td>\n",
       "    </tr>\n",
       "    <tr>\n",
       "      <th>22</th>\n",
       "      <td>25.0</td>\n",
       "      <td>4</td>\n",
       "      <td>104.0</td>\n",
       "      <td>95.00</td>\n",
       "      <td>2375.0</td>\n",
       "      <td>17.5</td>\n",
       "      <td>70</td>\n",
       "      <td>2</td>\n",
       "      <td>saab 99e</td>\n",
       "    </tr>\n",
       "    <tr>\n",
       "      <th>23</th>\n",
       "      <td>26.0</td>\n",
       "      <td>4</td>\n",
       "      <td>121.0</td>\n",
       "      <td>113.0</td>\n",
       "      <td>2234.0</td>\n",
       "      <td>12.5</td>\n",
       "      <td>70</td>\n",
       "      <td>2</td>\n",
       "      <td>bmw 2002</td>\n",
       "    </tr>\n",
       "    <tr>\n",
       "      <th>24</th>\n",
       "      <td>21.0</td>\n",
       "      <td>6</td>\n",
       "      <td>199.0</td>\n",
       "      <td>90.00</td>\n",
       "      <td>2648.0</td>\n",
       "      <td>15.0</td>\n",
       "      <td>70</td>\n",
       "      <td>1</td>\n",
       "      <td>amc gremlin</td>\n",
       "    </tr>\n",
       "    <tr>\n",
       "      <th>25</th>\n",
       "      <td>10.0</td>\n",
       "      <td>8</td>\n",
       "      <td>360.0</td>\n",
       "      <td>215.0</td>\n",
       "      <td>4615.0</td>\n",
       "      <td>14.0</td>\n",
       "      <td>70</td>\n",
       "      <td>1</td>\n",
       "      <td>ford f250</td>\n",
       "    </tr>\n",
       "    <tr>\n",
       "      <th>26</th>\n",
       "      <td>10.0</td>\n",
       "      <td>8</td>\n",
       "      <td>307.0</td>\n",
       "      <td>200.0</td>\n",
       "      <td>4376.0</td>\n",
       "      <td>15.0</td>\n",
       "      <td>70</td>\n",
       "      <td>1</td>\n",
       "      <td>chevy c20</td>\n",
       "    </tr>\n",
       "    <tr>\n",
       "      <th>27</th>\n",
       "      <td>11.0</td>\n",
       "      <td>8</td>\n",
       "      <td>318.0</td>\n",
       "      <td>210.0</td>\n",
       "      <td>4382.0</td>\n",
       "      <td>13.5</td>\n",
       "      <td>70</td>\n",
       "      <td>1</td>\n",
       "      <td>dodge d200</td>\n",
       "    </tr>\n",
       "    <tr>\n",
       "      <th>28</th>\n",
       "      <td>9.0</td>\n",
       "      <td>8</td>\n",
       "      <td>304.0</td>\n",
       "      <td>193.0</td>\n",
       "      <td>4732.0</td>\n",
       "      <td>18.5</td>\n",
       "      <td>70</td>\n",
       "      <td>1</td>\n",
       "      <td>hi 1200d</td>\n",
       "    </tr>\n",
       "    <tr>\n",
       "      <th>29</th>\n",
       "      <td>27.0</td>\n",
       "      <td>4</td>\n",
       "      <td>97.0</td>\n",
       "      <td>88.00</td>\n",
       "      <td>2130.0</td>\n",
       "      <td>14.5</td>\n",
       "      <td>71</td>\n",
       "      <td>3</td>\n",
       "      <td>datsun pl510</td>\n",
       "    </tr>\n",
       "  </tbody>\n",
       "</table>\n",
       "</div>"
      ],
      "text/plain": [
       "     mpg  cylinders  displacement horsepower  weight  acceleration  \\\n",
       "0   18.0          8         307.0      130.0  3504.0          12.0   \n",
       "1   15.0          8         350.0      165.0  3693.0          11.5   \n",
       "2   18.0          8         318.0      150.0  3436.0          11.0   \n",
       "3   16.0          8         304.0      150.0  3433.0          12.0   \n",
       "4   17.0          8         302.0      140.0  3449.0          10.5   \n",
       "5   15.0          8         429.0      198.0  4341.0          10.0   \n",
       "6   14.0          8         454.0      220.0  4354.0           9.0   \n",
       "7   14.0          8         440.0      215.0  4312.0           8.5   \n",
       "8   14.0          8         455.0      225.0  4425.0          10.0   \n",
       "9   15.0          8         390.0      190.0  3850.0           8.5   \n",
       "10  15.0          8         383.0      170.0  3563.0          10.0   \n",
       "11  14.0          8         340.0      160.0  3609.0           8.0   \n",
       "12  15.0          8         400.0      150.0  3761.0           9.5   \n",
       "13  14.0          8         455.0      225.0  3086.0          10.0   \n",
       "14  24.0          4         113.0      95.00  2372.0          15.0   \n",
       "15  22.0          6         198.0      95.00  2833.0          15.5   \n",
       "16  18.0          6         199.0      97.00  2774.0          15.5   \n",
       "17  21.0          6         200.0      85.00  2587.0          16.0   \n",
       "18  27.0          4          97.0      88.00  2130.0          14.5   \n",
       "19  26.0          4          97.0      46.00  1835.0          20.5   \n",
       "20  25.0          4         110.0      87.00  2672.0          17.5   \n",
       "21  24.0          4         107.0      90.00  2430.0          14.5   \n",
       "22  25.0          4         104.0      95.00  2375.0          17.5   \n",
       "23  26.0          4         121.0      113.0  2234.0          12.5   \n",
       "24  21.0          6         199.0      90.00  2648.0          15.0   \n",
       "25  10.0          8         360.0      215.0  4615.0          14.0   \n",
       "26  10.0          8         307.0      200.0  4376.0          15.0   \n",
       "27  11.0          8         318.0      210.0  4382.0          13.5   \n",
       "28   9.0          8         304.0      193.0  4732.0          18.5   \n",
       "29  27.0          4          97.0      88.00  2130.0          14.5   \n",
       "\n",
       "    model year  origin                      car name  \n",
       "0           70       1     chevrolet chevelle malibu  \n",
       "1           70       1             buick skylark 320  \n",
       "2           70       1            plymouth satellite  \n",
       "3           70       1                 amc rebel sst  \n",
       "4           70       1                   ford torino  \n",
       "5           70       1              ford galaxie 500  \n",
       "6           70       1              chevrolet impala  \n",
       "7           70       1             plymouth fury iii  \n",
       "8           70       1              pontiac catalina  \n",
       "9           70       1            amc ambassador dpl  \n",
       "10          70       1           dodge challenger se  \n",
       "11          70       1            plymouth 'cuda 340  \n",
       "12          70       1         chevrolet monte carlo  \n",
       "13          70       1       buick estate wagon (sw)  \n",
       "14          70       3         toyota corona mark ii  \n",
       "15          70       1               plymouth duster  \n",
       "16          70       1                    amc hornet  \n",
       "17          70       1                 ford maverick  \n",
       "18          70       3                  datsun pl510  \n",
       "19          70       2  volkswagen 1131 deluxe sedan  \n",
       "20          70       2                   peugeot 504  \n",
       "21          70       2                   audi 100 ls  \n",
       "22          70       2                      saab 99e  \n",
       "23          70       2                      bmw 2002  \n",
       "24          70       1                   amc gremlin  \n",
       "25          70       1                     ford f250  \n",
       "26          70       1                     chevy c20  \n",
       "27          70       1                    dodge d200  \n",
       "28          70       1                      hi 1200d  \n",
       "29          71       3                  datsun pl510  "
      ]
     },
     "execution_count": 56,
     "metadata": {},
     "output_type": "execute_result"
    }
   ],
   "source": [
    "dfMiles = pd.read_csv('https://raw.githubusercontent.com/dblarremore/csci3022/master/homework/homework6/data/auto-mpg.data', delim_whitespace = True, names= [\"mpg\",\"cylinders\",\"displacement\",\"horsepower\",\"weight\",\"acceleration\",\"model year\",\"origin\",\"car name\"]) # TODO - need extra arguments to read correctly\n",
    "dfMiles.dropna(axis=0, how='any', inplace = True)\n",
    "dfMiles.replace(\"?\", np.nan, inplace = True)\n",
    "dfMiles.head(30)"
   ]
  },
  {
   "cell_type": "markdown",
   "metadata": {},
   "source": [
    "**Part B**: Assuming the data in this sample are representative of cars from the 1970-1983 time period, find a 95% confidence interval for the mean gas mileage (mpg) of all vehicles from this period. Can we conclude that the mean gas mileage is higher than 20 mpg? Be sure to show all calculations in Python. "
   ]
  },
  {
   "cell_type": "code",
   "execution_count": 57,
   "metadata": {},
   "outputs": [
    {
     "name": "stdout",
     "output_type": "stream",
     "text": [
      "Mean:  23.5145728643\n",
      "Standard Dev:  7.81598431257\n",
      "Count:  398\n",
      "Z-value:  8.97078418118\n",
      "CI:[ 24.282447344 , 22.7466983847 ]\n"
     ]
    }
   ],
   "source": [
    "standardD = dfMiles[\"mpg\"].std()\n",
    "count = dfMiles[\"mpg\"].count()\n",
    "Average = dfMiles[\"mpg\"].mean()\n",
    "max_ = Average - (stats.norm.ppf(1-0.025)*sd/math.sqrt(count))\n",
    "min_ = Average + (stats.norm.ppf(1-0.025)*sd/math.sqrt(count))\n",
    "z = (Average- 20)/(standardD/ math.sqrt(s))\n",
    "\n",
    "print(\"Mean: \", Average)\n",
    "print(\"Standard Dev: \", standardD)\n",
    "print(\"Count: \" , count)\n",
    "print(\"Z-value: \", z)\n",
    "print(\"CI:[\",min_,\",\",max_,\"]\" )"
   ]
  },
  {
   "cell_type": "markdown",
   "metadata": {},
   "source": [
    "Yes we can conclude that the mpg is higher than 20 mpg because above we see that at 95% CI it is above the needed 20. Also, we see that the z-value is much larger than the z-critical."
   ]
  },
  {
   "cell_type": "markdown",
   "metadata": {},
   "source": [
    "**Part C**: You are considering buying a new car, but since [gas prices have recently increased dramatically](https://www.energy.gov/eere/vehicles/fact-915-march-7-2016-average-historical-annual-gasoline-pump-price-1929-2015), you are concerned about getting good fuel economy.\n",
    "\n",
    "Can you conclude at the $\\alpha=0.01$ significance level that the mean gas mileage for vehicles with 4 or 6 cylinder engines is more than 10 mpg better than the mean gas mileage for vehicles with 8 cylinder engines? You may consider two populations here: those vehicles with 4 or 6 cylinders, and those vehicles with 8 cylinders in their engines. Be sure to clearly describe your hypotheses and methodology, and show all relevant computations in Python. "
   ]
  },
  {
   "cell_type": "code",
   "execution_count": 59,
   "metadata": {},
   "outputs": [
    {
     "name": "stdout",
     "output_type": "stream",
     "text": [
      "2.57582930355\n"
     ]
    }
   ],
   "source": [
    "df= dfMiles.where(dfMiles[\"cylinders\"]==8)\n",
    "df.dropna(axis=0, how='any', inplace = True)\n",
    "df.head()\n",
    "dfOR= dfMiles.where((dfMiles[\"cylinders\"]==6) | (dfMiles[\"cylinders\"]==4))\n",
    "dfOR.dropna(axis=0, how='any', inplace = True)\n",
    "dfOR.head()\n",
    "Z_crit  = stats.norm.ppf(1-0.005)\n",
    "print(Z_crit)"
   ]
  },
  {
   "cell_type": "markdown",
   "metadata": {},
   "source": [
    "Box-Muller:\n",
    "\n",
    "$$ \\frac{\\bar{x}_\\text{6 or 4} - \\bar{x}_\\text{8} - 10}{\\sqrt{\\frac{\\sigma_\\text{6 or 4}^2}{n} + \\frac{\\sigma_\\text{8}^2}{m}}} \\sim Z$$\n",
    "\n",
    "\n",
    "\n",
    "\n",
    "$$ \\frac{26.544 - 14.963- 10}{\\sqrt{\\frac{6.708^2}{282} + \\frac{2.836 ^2}{103}}} \\sim Z$$\n",
    "\n",
    "$$\n",
    "z \\approx 3.242\n",
    "$$"
   ]
  },
  {
   "cell_type": "markdown",
   "metadata": {},
   "source": [
    "Now we can compare both values which gives up 3.242 > 2.58 which representst the fact the the z critical is less than the z-value. So, we can reject the null hypothesis and conclude that the mean of 4 or 6 cylinders will yield to greater than 10 mpg than to 8 cylinders with 99% confidence."
   ]
  },
  {
   "cell_type": "markdown",
   "metadata": {},
   "source": [
    "**Part D**: You decide to go with either a 4 or 6 cylinder engine, because if you buy an 8-cylinder vehicle that can haul heavy things, you just know you are going to get stuck helping people move. You just _know_ it.\n",
    "\n",
    "Conduct an appropriate hypothesis test at the $\\alpha=0.01$ significance level to determine if the mean gas mileage of vehicles with a 4-cylinder engine is significantly better than the gas mileage of vehicles with 6 cylinders. Be sure to clearly describe your hypotheses and methodology, and show all relevant computations in Python. "
   ]
  },
  {
   "cell_type": "markdown",
   "metadata": {
    "collapsed": true
   },
   "source": [
    "Using the same z-critical we can just use Box-Muller to find z-value\n",
    "Box-Muller:\n",
    "\n",
    "$$ \\frac{\\bar{x}_\\text{4} - \\bar{x}_\\text{6}}{\\sqrt{\\frac{\\sigma_\\text{4}^2}{m} + \\frac{\\sigma_\\text{6}^2}{n}}} \\sim Z$$\n",
    "\n",
    "\n",
    "$$ \\frac{26.544 - 14.963}{\\sqrt{\\frac{6.708^2}{282} + \\frac{2.836 ^2}{103}}} \\sim Z$$\n",
    "\n",
    "$$\n",
    "z \\approx 16.010\n",
    "$$"
   ]
  },
  {
   "cell_type": "markdown",
   "metadata": {},
   "source": [
    "Since z-value is greater than z-critical we can say with 99% confidence that the mean of a 4 cylinder car is better than a 6 cylinder car even though thats intuitive."
   ]
  },
  {
   "cell_type": "markdown",
   "metadata": {},
   "source": [
    "---\n",
    "[Back to top](#top)\n",
    "<a id='p3'></a>\n",
    "\n",
    "### [20 points] Problem 3 - Naps vs Coffee for Memory? \n",
    "\n",
    "It is estimated that [about 75% of adults](https://www.ncbi.nlm.nih.gov/pmc/articles/PMC4997286/) in the United States drink coffee. Often, coffee is used to replace the need for sleep. It works alright, or so we think. Let's find out, in this exciting homework problem!\n",
    "\n",
    "[One recent study](https://www.sciencedirect.com/science/article/pii/S1388245703002554) investigated the effects of drinking coffee, taking a nap, and having a [\"coffee-nap\"](https://lifehacker.com/naps-vs-coffee-which-is-better-when-youre-exhausted-1730643671) - the practice of drinking some coffee *and then* having a short nap. The study broke participants up into three groups of 10 participants each, where the groups would have a nap, or have a coffee, or have a coffee-nap, then perform a task where their reaction time was measured. In previous experiments the mean reaction time measurement was found to be normally distributed. The reaction time means (milliseconds, ms) and standard deviations for the three groups of participants are given in the table below.\n",
    "\n",
    "$$\n",
    "\\begin{array}{c|c|c|c}\n",
    "\\textrm{Group} & \\textrm{Sample Size} & \\textrm{Mean} & \\textrm{Standard Deviation} \\\\\n",
    "\\hline \n",
    "\\textrm{Coffee+Nap} & 10 & 451.3 & 31.9 \\\\ \n",
    "\\textrm{Coffee} & 10 & 494.2 & 39.6 \\\\ \n",
    "\\textrm{Nap} & 10 & 492.8 & 45.2 \\\\ \n",
    "\\end{array}\n",
    "$$\n",
    "\n",
    "**Part A**: Compute 95% t-confidence intervals for the mean reaction time measurement for participants in each of these three groups. (You should find three separate confidence intervals.) Do all computations in Python by hand, and report the results.\n",
    "\n",
    "1. Can you make any conclusions regarding whether coffee, naps or both (coffee-naps) are better for faster reaction times?\n",
    "2. Why did we use a t-distribution?"
   ]
  },
  {
   "cell_type": "markdown",
   "metadata": {
    "collapsed": true
   },
   "source": [
    "$$\n",
    "CI = \\bar{x} \\pm t_{\\alpha/2, n-1} \\times \\dfrac{s}{\\sqrt{n}}\n",
    "$$\n",
    "\n",
    "$$\n",
    "\\text{Nap}\\\\\n",
    "CI=  492.8 \\pm -2.262 \\cdot \\frac{45.2}{\\sqrt{10}}\\\\\n",
    " [ 482.575, 503.025]\n",
    "$$\n",
    "\n",
    "$$\n",
    "\\text{Coffee}\\\\\n",
    "CI=  494.2 \\pm -2.262 \\cdot \\frac{39.6}{\\sqrt{10}}\\\\\n",
    "[ 485.242, 503.158]\n",
    "$$\n",
    "\n",
    "$$\n",
    "\\text{Coffee And Nap}\\\\\n",
    "CI=  451.3 \\pm -2.262 \\cdot \\frac{31.9}{\\sqrt{10}}\\\\\n",
    "[ 444.084, 458.516]\n",
    "$$"
   ]
  },
  {
   "cell_type": "code",
   "execution_count": 17,
   "metadata": {},
   "outputs": [
    {
     "name": "stdout",
     "output_type": "stream",
     "text": [
      "Nap CI: [ 483.913872426 , 501.686127574 ]\n",
      "Coffee CI: [ 486.414808585 , 501.985191415 ]\n",
      "Coffee and Nap CI: [ 445.028595805 457.571404195 ]\n"
     ]
    }
   ],
   "source": [
    "size = 10\n",
    "#given\n",
    "n_Min = 492.8 + stats.t.ppf((.05/2),s-1 )*45.2/10\n",
    "n_Max = 492.8 - stats.t.ppf((.05/2),s-1 )*45.2/10\n",
    "cn_Min = 451.3 + stats.t.ppf((.05/2),s-1 )*31.9/10\n",
    "cn_Max = 451.3 - stats.t.ppf((.05/2),s-1 )*31.9/10\n",
    "c_Min = 494.2 + stats.t.ppf((.05/2),s-1 )*39.6/10\n",
    "c_Max = 494.2 - stats.t.ppf((.05/2),s-1 )*39.6/10\n",
    "\n",
    "print(\"Nap CI:\",\"[\",n_Min,\",\", n_Max,\"]\")\n",
    "print(\"Coffee CI:\",\"[\",c_Min,\",\", c_Max,\"]\")\n",
    "print(\"Coffee and Nap CI:\" , \"[\",cn_Min, cn_Max,\"]\")"
   ]
  },
  {
   "cell_type": "markdown",
   "metadata": {},
   "source": [
    "**Part B**: Use an appropriate hypothesis test to determine if there sufficient evidence, at the $\\alpha = 0.05$ significance level, to conclude that taking a nap promotes faster reaction time than drinking coffee.  Be sure to clearly explain the test that you're doing and state all hypotheses. Do all computations in Python, and report results."
   ]
  },
  {
   "cell_type": "code",
   "execution_count": 25,
   "metadata": {},
   "outputs": [
    {
     "name": "stdout",
     "output_type": "stream",
     "text": [
      "Difference of means CI:[ -41.5881291527 , 44.3881291527 ]\n"
     ]
    }
   ],
   "source": [
    "t = t = stats.t.ppf((.05/2),9)\n",
    "d_min = (494.2 - 492.8) + t*math.sqrt((39.6**2/10)+(45.2**2/10))\n",
    "d_max = (494.2 - 492.8) - t*math.sqrt((39.6**2/10)+(45.2**2/10))\n",
    "print(\"Difference of means CI:[\", d_min ,\",\", d_max,\"]\")"
   ]
  },
  {
   "cell_type": "markdown",
   "metadata": {},
   "source": [
    "Because the difference of means CI at the 95% confidence level has 0, it is likely that there is 'not a significant diffence' between the coffee and nap reaction time."
   ]
  },
  {
   "cell_type": "markdown",
   "metadata": {},
   "source": [
    "**Part C**: Use an appropriate hypothesis test to determine if there is sufficient evidence, at the $\\alpha = 0.05$ significance level, to conclude that taking a coffee-nap promotes faster reaction time than only drinking coffee, or only having a nap.  Be sure to clearly explain the test that you're doing and state all hypotheses. Do all computations in Python, and report results."
   ]
  },
  {
   "cell_type": "markdown",
   "metadata": {},
   "source": [
    "Difference of means confidence interval formulas"
   ]
  },
  {
   "cell_type": "code",
   "execution_count": 60,
   "metadata": {},
   "outputs": [
    {
     "name": "stdout",
     "output_type": "stream",
     "text": [
      "Difference of mean coffe/nap vs nap CI: [ -81.0757914252 -1.92420857478\n",
      "Difference of mean coffee/nap vs coffee CI: [ -81.0757914252 0.0881291527202\n"
     ]
    }
   ],
   "source": [
    "d_left1 = (451.3 - 492.8) + t*math.sqrt((31.9**2/10)+(45.2**2/10))\n",
    "d_right1 = (451.3 - 492.8) - t*math.sqrt((31.9**2/10)+(45.2**2/10))\n",
    "d_left2 = (451.3 - 494.2) + t*math.sqrt((39.6**2/10)+(45.2**2/10))\n",
    "d_right2 = (451.3 - 494.2) - t*math.sqrt((39.6**2/10)+(45.2**2/10))\n",
    "print(\"Difference of mean coffe/nap vs nap CI: [\",d_left1, d_right1)\n",
    "print(\"Difference of mean coffee/nap vs coffee CI: [\",d_left1, d_right2)"
   ]
  },
  {
   "cell_type": "markdown",
   "metadata": {},
   "source": [
    "Since the difference of means of the coffee and nap vs nap CI at the 95% confidence level does not have 0, it is likely that there exist a 'significant difference' between taking a nap and coffee comapred to nap reation time.\n",
    "Also, since the difference of means of the coffee and nap vs coffee CI at the 95% confidence level has 0, it is likely that there is not a 'significant difference' between taking a nap and coffee and just coffee reaction time."
   ]
  },
  {
   "cell_type": "markdown",
   "metadata": {},
   "source": [
    "**Part D**: Compute a 95% confidence interval for the standard deviation of reaction time for coffee-nap takers. Do all computations in Python, and report the results."
   ]
  },
  {
   "cell_type": "markdown",
   "metadata": {},
   "source": [
    "$$\n",
    "\\text{Chi-Squared CI Formula}\\\\\n",
    "CI: \\Big[~ \\frac{(n-1)s^2}{x^2_{\\alpha/2~,~ n-1}},  \\frac{(n-1)s^2}{x^2_{1-\\alpha/2~,~ n-1}} \\Big]\\\\\n",
    "$$"
   ]
  },
  {
   "cell_type": "code",
   "execution_count": 34,
   "metadata": {},
   "outputs": [
    {
     "name": "stdout",
     "output_type": "stream",
     "text": [
      "Chi-Squared CI values:[ 2.70038949998 19.0227677986 ]\n",
      "Coffee-nap Standard Deviation CI:[ 21.94194309529309 58.236964822374404 ]\n"
     ]
    }
   ],
   "source": [
    "n = 10\n",
    "x_min = stats.chi2.ppf(0.05/2, n-1)\n",
    "x_max = stats.chi2.ppf(1-(0.05/2), n-1)\n",
    "ci_min = math.sqrt((n-1)*31.9**2/ x_max)\n",
    "ci_max =  math.sqrt((n-1)*31.9**2/ x_min)\n",
    "print(\"Chi-Squared CI values:[\",x_min, x_max,\"]\")\n",
    "print(\"Coffee-nap Standard Deviation CI:[\",ci_min, ci_max,\"]\")"
   ]
  },
  {
   "cell_type": "markdown",
   "metadata": {},
   "source": [
    "---\n",
    "[Back to top](#top)\n",
    "<a id='p4'></a>\n",
    "\n",
    "### [20 points] Problem 4 - Bad Science for Fun and Profit \n",
    "\n",
    "[Data Dredging](https://en.wikipedia.org/wiki/Data_dredging) and [p-hacking](https://www.explainxkcd.com/wiki/index.php/882:_Significant) are umbrella terms for the dangerous practice of automatically testing a large number of hypotheses on the entirety or subsets of a single dataset in order to find statistically significant results. In this exercise we will focus on the idea of testing hypotheses on subsets of a single data set.  \n",
    "\n",
    "Nefaria Octopain has landed her first data science internship at an aquarium.  Her primary summer project has been to design and test a new feeding regimen for the aquarium's octopus population. To test her regimen, her supervisors have allowed her to deploy her new feeding regimen to 4 targeted octopus subpopulations of 40 octopuses each, every day, for a month. \n",
    "\n",
    "The effectiveness of the new diet is measured simply by the rate at which the food is consumed, which is simply defined to be the _proportion_ of octopuses that eat the food (POOTEF). The aquarium's standard octopus diet has a POOTEF of $0.90$.  Nefaria is hoping to land a permanent position at the aquarium when she graduates, so she's **really** motivated to show her supervisors that the POOTEF of her new diet regimen is a (statistically) significant improvement over their previous diet. \n",
    "\n",
    "The data from Nefaria's summer experiment can be found in `pootef.csv`. Load this dataset as a Pandas DataFrame. "
   ]
  },
  {
   "cell_type": "code",
   "execution_count": 38,
   "metadata": {},
   "outputs": [
    {
     "data": {
      "text/html": [
       "<div>\n",
       "<style scoped>\n",
       "    .dataframe tbody tr th:only-of-type {\n",
       "        vertical-align: middle;\n",
       "    }\n",
       "\n",
       "    .dataframe tbody tr th {\n",
       "        vertical-align: top;\n",
       "    }\n",
       "\n",
       "    .dataframe thead th {\n",
       "        text-align: right;\n",
       "    }\n",
       "</style>\n",
       "<table border=\"1\" class=\"dataframe\">\n",
       "  <thead>\n",
       "    <tr style=\"text-align: right;\">\n",
       "      <th></th>\n",
       "      <th>Group</th>\n",
       "      <th>Date</th>\n",
       "      <th>Fed</th>\n",
       "      <th>Ate</th>\n",
       "    </tr>\n",
       "  </thead>\n",
       "  <tbody>\n",
       "    <tr>\n",
       "      <th>0</th>\n",
       "      <td>1</td>\n",
       "      <td>Oct  1 2018</td>\n",
       "      <td>40</td>\n",
       "      <td>37</td>\n",
       "    </tr>\n",
       "    <tr>\n",
       "      <th>1</th>\n",
       "      <td>1</td>\n",
       "      <td>NaN</td>\n",
       "      <td>40</td>\n",
       "      <td>37</td>\n",
       "    </tr>\n",
       "    <tr>\n",
       "      <th>2</th>\n",
       "      <td>1</td>\n",
       "      <td>NaN</td>\n",
       "      <td>40</td>\n",
       "      <td>35</td>\n",
       "    </tr>\n",
       "    <tr>\n",
       "      <th>3</th>\n",
       "      <td>1</td>\n",
       "      <td>NaN</td>\n",
       "      <td>40</td>\n",
       "      <td>35</td>\n",
       "    </tr>\n",
       "    <tr>\n",
       "      <th>4</th>\n",
       "      <td>1</td>\n",
       "      <td>Oct  5 2018</td>\n",
       "      <td>40</td>\n",
       "      <td>36</td>\n",
       "    </tr>\n",
       "  </tbody>\n",
       "</table>\n",
       "</div>"
      ],
      "text/plain": [
       "   Group         Date  Fed  Ate\n",
       "0      1  Oct  1 2018   40   37\n",
       "1      1          NaN   40   37\n",
       "2      1          NaN   40   35\n",
       "3      1          NaN   40   35\n",
       "4      1  Oct  5 2018   40   36"
      ]
     },
     "execution_count": 38,
     "metadata": {},
     "output_type": "execute_result"
    }
   ],
   "source": [
    "dfBad= pd.read_csv(\"https://raw.githubusercontent.com/dblarremore/csci3022/master/homework/homework6/data/pootef.csv\")\n",
    "dfBad.head()"
   ]
  },
  {
   "cell_type": "markdown",
   "metadata": {},
   "source": [
    "**Part A**: State the null and alternate hypotheses that Nefaria should test to see if her new feeding regimen is an improvement over the aquarium's standard feeding regimen with a POOTEF of $0.90$. "
   ]
  },
  {
   "cell_type": "markdown",
   "metadata": {},
   "source": [
    "$$\n",
    "Hypothesis\\\\\n",
    "N_0: \\text{proportion}_{new} = 0.9\\\\\n",
    "N_1: \\text{propotion}_{new} > 0.9\\\\\n",
    "$$"
   ]
  },
  {
   "cell_type": "markdown",
   "metadata": {},
   "source": [
    "**Part B**: Test the hypothesis from **Part A** at the $\\alpha = 0.01$ significance level using a p-value test. Is there sufficient evidence for Nefaria to conclude that her feeding regimen is an improvement?   "
   ]
  },
  {
   "cell_type": "code",
   "execution_count": 54,
   "metadata": {},
   "outputs": [
    {
     "name": "stdout",
     "output_type": "stream",
     "text": [
      "z: 0.458333333333\n",
      "n: 16\n",
      "proportion eating under new regimen: 0.934375\n",
      "p value to test against a: 0.323356489808\n"
     ]
    }
   ],
   "source": [
    "p1= dfBad['Ate'].sum()/ dfBad[\"Fed\"].sum() #p-hat\n",
    "n= dfBad[\"Fed\"].count()\n",
    "norm = 0.01\n",
    "p2 = .9\n",
    "z= (p1-0.9)/(math.sqrt((p2*(1-p2))/n))\n",
    "p2 = 1-stats.norm.cdf(z)\n",
    "\n",
    "print (\"z:\",z)\n",
    "print (\"n:\",n)\n",
    "print (\"proportion eating under new regimen:\",p1)\n",
    "print (\"p value to test against a:\",p2)"
   ]
  },
  {
   "cell_type": "markdown",
   "metadata": {},
   "source": [
    "Clearly the p-test does not reject the null hypothesis"
   ]
  },
  {
   "cell_type": "markdown",
   "metadata": {},
   "source": [
    "**Part C**: Bummer, Nefaria thinks. This is the part where she decides to resort to some questionable science.  Maybe there is a reasonable _subset_ of the data for which her alternative hypothesis is supported?  Can she find it?  Can she come up for a reasonable justification for why this subset of the data should be considered while the rest should be discarded? \n",
    "\n",
    "Here are the **rules**: Nefaria cannot modify the original data (e.g. by adding nonexistent feedings or bites to certain groups or days) because her boss will surely notice.  Instead she needs to find a subset of the data for which her hypothesis is supported by a p-value test at the $\\alpha = 0.01$ significance level _and_ be able to explain to her supervisors why her sub-selection of the data is reasonable.  \n",
    "\n",
    "In addition to your explanation of why your successful subset of the data is potentially reasonable, be sure to thoroughly explain the details of the tests that you perform and show all of your Python computation.  "
   ]
  },
  {
   "cell_type": "code",
   "execution_count": 55,
   "metadata": {},
   "outputs": [
    {
     "name": "stdout",
     "output_type": "stream",
     "text": [
      "z: 0.458333333333\n",
      "n: 16\n",
      "proportion eating under new regimen: 0.934375\n",
      "p value to test against a: 0.323356489808\n"
     ]
    },
    {
     "data": {
      "text/html": [
       "<div>\n",
       "<style scoped>\n",
       "    .dataframe tbody tr th:only-of-type {\n",
       "        vertical-align: middle;\n",
       "    }\n",
       "\n",
       "    .dataframe tbody tr th {\n",
       "        vertical-align: top;\n",
       "    }\n",
       "\n",
       "    .dataframe thead th {\n",
       "        text-align: right;\n",
       "    }\n",
       "</style>\n",
       "<table border=\"1\" class=\"dataframe\">\n",
       "  <thead>\n",
       "    <tr style=\"text-align: right;\">\n",
       "      <th></th>\n",
       "      <th>Group</th>\n",
       "      <th>Date</th>\n",
       "      <th>Fed</th>\n",
       "      <th>Ate</th>\n",
       "    </tr>\n",
       "  </thead>\n",
       "  <tbody>\n",
       "    <tr>\n",
       "      <th>31</th>\n",
       "      <td>2.0</td>\n",
       "      <td>Oct  1 2018</td>\n",
       "      <td>40.0</td>\n",
       "      <td>38.0</td>\n",
       "    </tr>\n",
       "    <tr>\n",
       "      <th>34</th>\n",
       "      <td>2.0</td>\n",
       "      <td>Oct  4 2018</td>\n",
       "      <td>40.0</td>\n",
       "      <td>39.0</td>\n",
       "    </tr>\n",
       "    <tr>\n",
       "      <th>38</th>\n",
       "      <td>2.0</td>\n",
       "      <td>Oct  8 2018</td>\n",
       "      <td>40.0</td>\n",
       "      <td>37.0</td>\n",
       "    </tr>\n",
       "    <tr>\n",
       "      <th>40</th>\n",
       "      <td>2.0</td>\n",
       "      <td>Oct 10 2018</td>\n",
       "      <td>40.0</td>\n",
       "      <td>36.0</td>\n",
       "    </tr>\n",
       "    <tr>\n",
       "      <th>41</th>\n",
       "      <td>2.0</td>\n",
       "      <td>Oct 11 2018</td>\n",
       "      <td>40.0</td>\n",
       "      <td>35.0</td>\n",
       "    </tr>\n",
       "  </tbody>\n",
       "</table>\n",
       "</div>"
      ],
      "text/plain": [
       "    Group         Date   Fed   Ate\n",
       "31    2.0  Oct  1 2018  40.0  38.0\n",
       "34    2.0  Oct  4 2018  40.0  39.0\n",
       "38    2.0  Oct  8 2018  40.0  37.0\n",
       "40    2.0  Oct 10 2018  40.0  36.0\n",
       "41    2.0  Oct 11 2018  40.0  35.0"
      ]
     },
     "execution_count": 55,
     "metadata": {},
     "output_type": "execute_result"
    }
   ],
   "source": [
    "dfBad.where( dfBad['Group']==2, inplace= True)\n",
    "dfBad.dropna(axis=0, how='any', inplace = True)\n",
    "p1 = dfBad['Ate'].sum()/ dfBad[\"Fed\"].sum()\n",
    "count= dfBad[\"Fed\"].count()\n",
    "p2 = 0.9\n",
    "norm = 0.01\n",
    "z= (p1-0.9)/(math.sqrt((p2*(1-p2))/n))\n",
    "p2 = 1-stats.norm.cdf(z)\n",
    "\n",
    "print (\"z:\",z)\n",
    "print (\"n:\",count)\n",
    "print (\"proportion eating under new regimen:\",p1)\n",
    "print (\"p value to test against a:\",p2)\n",
    "dfBad.head()"
   ]
  },
  {
   "cell_type": "markdown",
   "metadata": {},
   "source": [
    "Again the p-test does not reject the null hypothesis"
   ]
  },
  {
   "cell_type": "markdown",
   "metadata": {},
   "source": [
    "---\n",
    "[Back to top](#top)\n",
    "<a id='p5'></a>\n",
    "\n",
    "### [20 points] Problem 5 - Simple Linear Regression for the Consumption of Ice Cream Treats\n",
    "\n",
    "[Usain O'Flaherty](https://www.youtube.com/watch?v=LVeLz0FIj9A), the famous octopus athlete of the distinguished O'Flaherty family, has been keeping careful track of how much ice cream he eats after his training runs. He has stored the data in `icecream.csv`, where his ice cream consumption is measured in number of scoops, and his run distances are saved in units of miles. In this exercise you will construct a simple linear regression model for the response variable \"amount of ice cream consumed\" (`scoops`), using \"number of miles run\" (`miles`) as the feature. Load the data into a Pandas DataFrame."
   ]
  },
  {
   "cell_type": "code",
   "execution_count": 63,
   "metadata": {},
   "outputs": [
    {
     "data": {
      "text/html": [
       "<div>\n",
       "<style scoped>\n",
       "    .dataframe tbody tr th:only-of-type {\n",
       "        vertical-align: middle;\n",
       "    }\n",
       "\n",
       "    .dataframe tbody tr th {\n",
       "        vertical-align: top;\n",
       "    }\n",
       "\n",
       "    .dataframe thead th {\n",
       "        text-align: right;\n",
       "    }\n",
       "</style>\n",
       "<table border=\"1\" class=\"dataframe\">\n",
       "  <thead>\n",
       "    <tr style=\"text-align: right;\">\n",
       "      <th></th>\n",
       "      <th>miles</th>\n",
       "      <th>scoops</th>\n",
       "    </tr>\n",
       "  </thead>\n",
       "  <tbody>\n",
       "    <tr>\n",
       "      <th>0</th>\n",
       "      <td>14.300531</td>\n",
       "      <td>8.922252</td>\n",
       "    </tr>\n",
       "    <tr>\n",
       "      <th>1</th>\n",
       "      <td>9.361511</td>\n",
       "      <td>4.720254</td>\n",
       "    </tr>\n",
       "    <tr>\n",
       "      <th>2</th>\n",
       "      <td>13.929330</td>\n",
       "      <td>8.567314</td>\n",
       "    </tr>\n",
       "    <tr>\n",
       "      <th>3</th>\n",
       "      <td>12.673436</td>\n",
       "      <td>8.855122</td>\n",
       "    </tr>\n",
       "    <tr>\n",
       "      <th>4</th>\n",
       "      <td>16.055107</td>\n",
       "      <td>9.409772</td>\n",
       "    </tr>\n",
       "  </tbody>\n",
       "</table>\n",
       "</div>"
      ],
      "text/plain": [
       "       miles    scoops\n",
       "0  14.300531  8.922252\n",
       "1   9.361511  4.720254\n",
       "2  13.929330  8.567314\n",
       "3  12.673436  8.855122\n",
       "4  16.055107  9.409772"
      ]
     },
     "execution_count": 63,
     "metadata": {},
     "output_type": "execute_result"
    }
   ],
   "source": [
    "dfICE= pd.read_csv(\"https://raw.githubusercontent.com/dblarremore/csci3022/master/homework/homework6/data/icecream.csv\")\n",
    "dfICE.head()\n"
   ]
  },
  {
   "cell_type": "markdown",
   "metadata": {},
   "source": [
    "**Part A**: Perform a simple linear regression with `miles` as the feature and `scoops` as the response.  Report the estimated regression model in the form $Y = \\alpha + \\beta x$. Do all computations in Python. "
   ]
  },
  {
   "cell_type": "code",
   "execution_count": 71,
   "metadata": {},
   "outputs": [
    {
     "name": "stdout",
     "output_type": "stream",
     "text": [
      "Y = 0.415533124951 + 2.88047729639 X\n"
     ]
    }
   ],
   "source": [
    "alpha,beta,rval,p,std = stats.linregress(dfICE[\"miles\"], dfICE[\"scoops\"])\n",
    "print(\"Y =\",alpha,\"+\", beta,\"X\")"
   ]
  },
  {
   "cell_type": "markdown",
   "metadata": {},
   "source": [
    "**Part B**: Make a scatter-plot of the data with `miles` as the feature and `scoops` as the response, and overlay the estimated regression line.  Clearly label all relevant plot elements and include a legend."
   ]
  },
  {
   "cell_type": "code",
   "execution_count": 75,
   "metadata": {},
   "outputs": [
    {
     "data": {
      "image/png": "[encoded data removed]",
      "text/plain": [
       "<Figure size 864x576 with 1 Axes>"
      ]
     },
     "metadata": {
      "needs_background": "light"
     },
     "output_type": "display_data"
    }
   ],
   "source": [
    "fig, ax = plt.subplots(nrows=1, ncols=1, figsize=(12,8))\n",
    "ax.scatter(dfICE[\"miles\"], dfICE[\"scoops\"], color=\"red\", alpha=0.5, s=100)\n",
    "ax.set_xlabel(\"miles\", fontsize=12)\n",
    "ax.set_ylabel(\"scoops\", fontsize=12)\n",
    "ax.set_title(\"miles vs scoops\", fontsize=16)\n",
    "ax.plot(dfICE[\"miles\"],alpha+beta*dfICE[\"miles\"], color=\"black\", lw=3); #linear regression"
   ]
  },
  {
   "cell_type": "markdown",
   "metadata": {},
   "source": [
    "**Part C**: Give a physical interpretation of the coefficients $\\hat{\\alpha}$ and $\\hat{\\beta}$, estimated from your model. Is the relationship between run lengths and ice cream consumption positive or negative? Fully justify your responses."
   ]
  },
  {
   "cell_type": "markdown",
   "metadata": {},
   "source": [
    "We can see $\\hat{\\beta} = +2.88$ which is portrayed as the positive line in the graph,so the relationship is positive.  "
   ]
  },
  {
   "cell_type": "markdown",
   "metadata": {},
   "source": [
    "**Part D**: How much ice cream does your simple linear regression model predict the runner will consume if they run a marathon (26.2 miles)? What are potential drawbacks to this model for ice cream consumption?"
   ]
  },
  {
   "cell_type": "markdown",
   "metadata": {
    "collapsed": true
   },
   "source": [
    "By plugging in 26.2 into our x value we get approximately 75.88. This is clearly based on correlation rather than causation which allows for unceratinty in the data."
   ]
  },
  {
   "cell_type": "markdown",
   "metadata": {},
   "source": [
    "**Part E:** Compute a 66% confidence interval for the slope parameter, $\\beta$, ***by hand***. This means performing all calculations yourself in Python, as opposed to calling a simple Python function that gives you the result."
   ]
  },
  {
   "cell_type": "code",
   "execution_count": null,
   "metadata": {
    "collapsed": true
   },
   "outputs": [],
   "source": []
  },
  {
   "cell_type": "markdown",
   "metadata": {
    "collapsed": true
   },
   "source": [
    "**Part F**: Are there any other features you think should be added to the model, making this a *multiple* linear regression model?"
   ]
  },
  {
   "cell_type": "markdown",
   "metadata": {},
   "source": [
    "We could account for the fats and sugars that can account for the overall performance of the length which will then make this  a multiple linear regression model."
   ]
  },
  {
   "cell_type": "code",
   "execution_count": null,
   "metadata": {},
   "outputs": [],
   "source": []
  }
 ],
 "metadata": {
  "kernelspec": {
   "display_name": "Python 3",
   "language": "python",
   "name": "python3"
  },
  "language_info": {
   "codemirror_mode": {
    "name": "ipython",
    "version": 3
   },
   "file_extension": ".py",
   "mimetype": "text/x-python",
   "name": "python",
   "nbconvert_exporter": "python",
   "pygments_lexer": "ipython3",
   "version": "3.6.6"
  }
 },
 "nbformat": 4,
 "nbformat_minor": 2
}
