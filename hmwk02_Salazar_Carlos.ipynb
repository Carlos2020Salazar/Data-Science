{
 "cells": [
  {
   "cell_type": "markdown",
   "metadata": {},
   "source": [
    "<a/ id='top'></a>\n",
    "# Homework 2: Introduction to Probability and Simulation \n",
    "***\n",
    "\n",
    "**Name**: Carlos Salazar \n",
    "\n",
    "***\n",
    "\n",
    "This assignment is due on Moodle by **5 PM on Friday September 28**. Your solutions to theoretical questions should be done in Markdown/MathJax directly below the associated question.  Your solutions to computational questions should include any specified Python code and results as well as written commentary on your conclusions.  Remember that you are encouraged to discuss the problems with your instructors and classmates, but **you must write all code and solutions on your own**. \n",
    "\n",
    "**NOTES**: \n",
    "\n",
    "- It is **bad form** to make your reader interpret numerical output from your code.  If a question asks you to compute some value from the data you should show your code output **AND** write a summary of the results in Markdown directly below your code.\n",
    "- Because you can technically evaluate notebook cells in a non-linear order, it's a good idea to do Cell $\\rightarrow$ Run All as a check before submitting your solutions.  That way if we need to run your code you will know that it will work as expected.\n",
    "- Leave all of your code cells executed and the output displayed before submitting your final notebook. That way, we do not need to re-run all of the simulations, which can be time-consuming.\n",
    "- Submit only this Jupyter notebook to Moodle.  Do not compress it using tar, rar, zip, etc. \n",
    "\n",
    "---\n",
    "**Shortcuts:**  [Problem 1](#p1) | [Problem 2](#p2) | [Problem 3](#p3) | [Problem 4](#p4) | [Problem 5](#p5) | [Challenge!](#ch)\n",
    "\n",
    "---"
   ]
  },
  {
   "cell_type": "code",
   "execution_count": 6,
   "metadata": {},
   "outputs": [],
   "source": [
    "import pandas as pd\n",
    "import numpy as np\n",
    "import matplotlib.pylab as plt\n",
    "%matplotlib inline"
   ]
  },
  {
   "cell_type": "markdown",
   "metadata": {},
   "source": [
    "***\n",
    "<a/ id='p1'></a>\n",
    "[Back to top](#top)\n",
    "\n",
    "### [20 points] Problem 1\n",
    "\n",
    "To play a game, you have a bag containing 28 fair [four-sided dice](https://en.wikipedia.org/wiki/Four-sided_die), with faces `{1,2,3,4}`.  This bag also contains 10 fair six-sided dice (faces `{1,2,3,4,5,6}`) and 2 fair twenty-sided dice (faces `{1,2,3,4,...,19,20}`).  Call these 3 classes of die \"Four\", \"Six\" and \"Twenty\" (or F, S, and T, for short).  You grab one die at random from the box.  \n",
    "\n",
    "Work the following problems by hand unless otherwise stated (but don't be afraid to simulate to check your result!). "
   ]
  },
  {
   "cell_type": "markdown",
   "metadata": {},
   "source": [
    "**Part A**: You roll your die one time.  What is the probability of the event $R_5$, that you roll a 5?  Include at least 4 decimal places in your answer."
   ]
  },
  {
   "cell_type": "markdown",
   "metadata": {},
   "source": [
    "$$P(5) = P(5 \\mid F)P(F) + P(5 \\mid S) P(S) + P(5 \\mid T) P(T)$$\n",
    "$$ = 0*\\frac{28}{40} + \\frac{1}{6}*\\frac{10}{40}+\\frac{1}{20}*\\frac{2}{40}$$  \n",
    "$$  \\approx 0.0441666$$"
   ]
  },
  {
   "cell_type": "markdown",
   "metadata": {},
   "source": [
    "**Part B**: Suppose you roll a 5.  What is the probability that the die you chose from the box is a Six-sided die? "
   ]
  },
  {
   "cell_type": "markdown",
   "metadata": {},
   "source": [
    "$$P(S \\mid 5) = \\frac{P(5\\mid S) P(S)}{P(5)}$$\n",
    "\n",
    "$$ = \\frac{\\frac{1}{6} * \\frac{10}{40}}{0.0441666}$$\n",
    "$$ \\approx 0.94339$$"
   ]
  },
  {
   "cell_type": "markdown",
   "metadata": {},
   "source": [
    "**Part C:**  Are the events $R_5$ and $S$ independent?  Justify your answer **using math**.\n"
   ]
  },
  {
   "cell_type": "markdown",
   "metadata": {},
   "source": [
    "$P(S)=0.25$\n",
    "$P(S \\mid R_5)  != 0.94339$  \n",
    "Because these values are not equivalent then we can conclude that they are not independent"
   ]
  },
  {
   "cell_type": "markdown",
   "metadata": {},
   "source": [
    "**Part D:**  Suppose you roll your die $n$ times and record each outcome.  Obviously, if you roll 5 or 6 you know you did *not* pick a Four-sided die, and if you roll a 7 or higher, you must have picked a Twenty-sided die.\n",
    "\n",
    "But, if you roll $n$ times in a row and get only 1, 2, 3 or 4, you would have a stronger belief that you in fact grabbed one of the Four-sided dice.  Let $E_n$ be the event that you roll $n$ rolls of 1, 2, 3 or 4 in a row.  For example, one outcome in $E_3$ is the sequence 2, 3, 1.\n",
    "\n",
    "Given that you roll a single value of 1, 2, 3 or 4, what is the probability that you have grabbed a Four-sided die?  That is, calculate **by hand** $P(F \\mid E_1)$."
   ]
  },
  {
   "cell_type": "markdown",
   "metadata": {},
   "source": [
    "$$P(F \\mid E_1) = \\frac{P(E_1 \\mid F)P(F)}{P(E_1)} =  \\frac{\\frac{4}{4}\\cdot\\frac{28}{40}}{\\frac{4}{4}\\cdot\\frac{28}{40} + \\frac{4}{6}\\cdot\\frac{1}{4} + \\frac{4}{20}\\cdot\\frac{1}{20}} \\approx 0.7985 \\approx 79.85\\%$$"
   ]
  },
  {
   "cell_type": "markdown",
   "metadata": {},
   "source": [
    "**Part E**:  \n",
    "\n",
    "First, work out **by hand** a formula for the probability in general that you are rolling a Four-sided die, given that you have rolled $n$ values in a row that are 1, 2, 3 or 4 (that is, $E_n$).  So you want a formula for $P(F \\mid E_n)$ in terms of $n$.\n",
    "\n",
    "Then, define a function `prob_four` to calculate $P(F \\mid E_n)$.  This function should only take one positive integer argument, $n$.\n",
    "\n",
    "Verify that your function is performing as expected by checking your answer to **Part D**."
   ]
  },
  {
   "cell_type": "code",
   "execution_count": 19,
   "metadata": {},
   "outputs": [
    {
     "name": "stdout",
     "output_type": "stream",
     "text": [
      "Number 0 = 0.7\n",
      "Number 1 = 0.7984790874524715\n",
      "Number 2 = 0.860890953812517\n",
      "Number 3 = 0.9038391644509058\n",
      "Number 4 = 0.9340024326892286\n",
      "Number 5 = 0.9550605655503714\n",
      "Number 6 = 0.9695947902893278\n",
      "Number 7 = 0.9795243643095131\n",
      "Number 8 = 0.9862561839358702\n",
      "Number 9 = 0.9907953704311973\n"
     ]
    }
   ],
   "source": [
    "def prob_four(n):\n",
    "    a = (1**n * 28/40)\n",
    "    b = (1**n * 28/40 + (4/6)**n * 1/4 + (4/20)**n * 1/20)\n",
    "    return (a/b)\n",
    "\n",
    "for i in range(0,10):\n",
    "    print('Number',i,'=',prob_four(i))"
   ]
  },
  {
   "cell_type": "markdown",
   "metadata": {},
   "source": [
    "**Part F:**  What is the smallest value of $n$ successive rolls of 1, 2, 3 or 4 that would make you believe that there's a better-than-95% chance that the die you grabbed is Four-sided?  Plugging larger and larger values for $n$ into your `prob_four` function is a very reasonable way to check this."
   ]
  },
  {
   "cell_type": "markdown",
   "metadata": {},
   "source": [
    "\n",
    "According to the values, it will be 5 with the probability of 0.9551"
   ]
  },
  {
   "cell_type": "markdown",
   "metadata": {},
   "source": [
    "***\n",
    "<a/ id='p2'></a>\n",
    "[Back to top](#top)\n",
    "\n",
    "### [20 points] Problem 2\n",
    "\n",
    "Oscar and Stella are two average young adult octopuses. They work hard, but they also like to blow off a little steam after work. When they leave work from the CU Engineering Center ($E~$), they each head for one of five other locations: the Gym to get strong ($G~$), the Library to get learned ($L~$), the Boulder Reservoir to have a nice swim ($R$), the Hill to have a sandwich ($H~$), or to Brewing Market to have a nice Coffee ($C~$).  \n",
    "\n",
    "Here are some rules governing their movements throughout the fair city of Boulder:\n",
    "* When Oscar and/or Stella is leaving one location, they randomly select one of the available adjacent locations, with equal probability.\n",
    "* This includes back-tracking, but note that to return to their original location would require 2 moves.\n",
    "* Assume that all moves require the same amount of time.\n",
    "* They are also not allowed to stay put; they always must move to some *other* adjacent location.\n",
    "* Oscar and Stella, being the think-for-yourselfers that they are, also act **independently** of one another. That is, the probability that Oscar goes from one place to another is independent of the probability of Stella's movements.\n",
    "* As we learned from your answers to Problem 5 of Homework 1, Stella and Oscar of course prefer to *walk* from place to place, as opposed to swim... because one of an octopus' *three* hearts will stop beating when it swims. Yowza!\n",
    "\n",
    "<img src=\"http://www.cs.colorado.edu/~tonyewong/home/resources/chris_and_dan_statespace.png\" style=\"width: 300px;\"/>"
   ]
  },
  {
   "cell_type": "markdown",
   "metadata": {},
   "source": [
    "**Part A**: Oscar, being a learned octopus, wants to go to the library, but also wants to make a stop somewhere else first, for he has octopus errands to run. Compute (by hand) the probability that Oscar ends up at the the Library ($L$) after first visiting one other location, after he is initially at the Engineering Center ($E$). "
   ]
  },
  {
   "cell_type": "markdown",
   "metadata": {},
   "source": [
    "$$P(L) = P(L\\mid G)P(G) + P(L\\mid C)P(C)$$\n",
    "$$\\frac{1}{4}\\cdot\\frac{1}{4} + \\frac{1}{4}\\cdot\\frac{1}{3} \\approx 14.583\\%$$"
   ]
  },
  {
   "cell_type": "markdown",
   "metadata": {},
   "source": [
    "**Part B**: Stella, on the other tentacle, is a body-building octopus. This is quite the feat given her lack of bones! Compute (by hand) the probability that Stella ends up at the Gym _either_ as her first _or_ second location visited after leaving the Reservsoir. (Again, assume that Stella wanders the streets of Boulder randomly using the same rules described above.)"
   ]
  },
  {
   "cell_type": "markdown",
   "metadata": {},
   "source": [
    "$$P(G) + P(C \\cap G) = \\frac{1}{2} + \\frac{1}{2} \\cdot \\frac{1}{4} \\approx 62.50\\%$$"
   ]
  },
  {
   "cell_type": "markdown",
   "metadata": {},
   "source": [
    "**Part C**: Suppose that Oscar works late at the Engineering Center, while Stella goes to the Hill.  Later, they both leave and wander around, randomly and independently of one another, as described above.\n",
    "1. What is the probability that they run into each other in the same location on the first location visited?  \n",
    "2. Given their two initial locations, what is the probability that they meet at the Hill after 2 moves?"
   ]
  },
  {
   "cell_type": "markdown",
   "metadata": {},
   "source": [
    "$$1:Hill$$\n",
    "$$P(G) = P(G \\mid C) P(C)$$\n",
    "$$ = \\frac{1}{4}$$\n",
    "$$2:Both$$\n",
    "$$P(both) = P(R)P(r) + P(R)P(r) + P(C)P(c) + P(R)P(r) + P(G)P(g)$$\n",
    "$$ approx \\approx 2.5\\%$$"
   ]
  },
  {
   "cell_type": "markdown",
   "metadata": {},
   "source": [
    "**Part D**: Write a simulation to confirm that your by-hand calculations in **Part A**, **Part B**, and **Part C** are correct. Make sure you run your simulations for enough trials that your estimates are reasonably close to your analytic results. In addition to showing your code, you should explain in Markdown (not just in code comments) what your code is doing and why it is a reasonable approximation of the probabilities in **Part A**, **Part B**, and **Part C**.  "
   ]
  },
  {
   "cell_type": "code",
   "execution_count": 38,
   "metadata": {},
   "outputs": [],
   "source": [
    "octo_dictionaries = {'G':['R','L','E','H'],'R':['G','E'],'E':['G','R','C','L'],'L':['G','C','H','E'],'C':['H','E','L'],'H':['G','L','C']}\n",
    "def A(dict,start,end,trials):\n",
    "    total = 0\n",
    "    for n in range(trials):\n",
    "        loc = start\n",
    "        loc = np.random.choice(dict[loc])\n",
    "        loc = np.random.choice(dict[loc])\n",
    "        if loc == end:\n",
    "            total = total+1\n",
    "    return(total/trials)       \n",
    "def B(dict,start,end,trials):\n",
    "    total = 0\n",
    "    for n in range(trials):\n",
    "        loc = start\n",
    "        loc = np.random.choice(dict[loc])\n",
    "        if loc == end:\n",
    "            total = total+1\n",
    "        loc = np.random.choice(dict[loc])\n",
    "        if loc == end: \n",
    "            total = total+1 \n",
    "    return(total/trials) \n",
    "def C(dict,start,end,trials):\n",
    "    total = 0\n",
    "    for n in range(trials):\n",
    "        Oscar_loc = start \n",
    "        Stella_loc = end\n",
    "        Oscar_loc =  np.random.choice(dict[Oscar_loc])\n",
    "        Stella_loc =  np.random.choice(dict[Stella_loc])\n",
    "        if Oscar_loc == Stella_loc:\n",
    "            total = total+1\n",
    "    return(total/trials)"
   ]
  },
  {
   "cell_type": "code",
   "execution_count": 39,
   "metadata": {},
   "outputs": [
    {
     "name": "stdout",
     "output_type": "stream",
     "text": [
      "0.1447\n",
      "0.6251\n",
      "0.2562\n"
     ]
    }
   ],
   "source": [
    "print(A(octo_dictionaries,'E','L',10000))\n",
    "print(B(octo_dictionaries,'R','G',10000))\n",
    "print(C(octo_dictionaries,'E','H',10000))"
   ]
  },
  {
   "cell_type": "markdown",
   "metadata": {},
   "source": [
    "***\n",
    "<a/ id='p3'></a>\n",
    "[Back to top](#top)\n",
    "\n",
    "### [20 points] Problem 3  \n",
    "\n",
    "As part of their Computer Science Jedi training, Tony and Dan are having a lightsaber duel. The rules of the lightsaber duel are as follows:\n",
    "* The duel is composed of a number of rounds.\n",
    "* Each round consists of Tony practicing his sweetest Jedi moves and trying to strike Dan, then Dan practicing *his* best moves and trying to strike Tony.\n",
    "* If Tony manages to strike Dan, then Tony is awarded a point, and similarly if Dan manages to strike Tony, then Dan is awarded a point.\n",
    "* If a round ends in a tie, then Tony and Dan proceed to another round. If a round ends with one Jedi scoring a point but the other one does not, then the Jedi who scored a point wins the duel.\n",
    "\n",
    "Let $T$ be the event that \"Tony wins the duel\", $E$ be the event that \"the duel ends after the first round of lightsaber strikes\", and $C$ be the event that \"the duel continues after the first round of lightsaber strikes\".  Suppose that the result of one lightsaber strike is independent of the other strikes, Tony successfully lands his lightsaber strikes with probability $p$, and Dan lands his strikes with probability $q$.\n",
    "\n",
    "**Part A**: The duel will continue until Tony or Dan wins.  What is the sample space $\\Omega$ for this \"experiment\"?  Represent the outcomes of individual lightsaber strikes by $H$ for a hit and $M$ for a miss, and assume that Tony has the first strike in each round. At the very least, your answer should include all of the events in $\\Omega$ that include one or two rounds.\n"
   ]
  },
  {
   "cell_type": "markdown",
   "metadata": {},
   "source": [
    "$$\\Omega = [HH, HM, MH, MM]$$"
   ]
  },
  {
   "cell_type": "markdown",
   "metadata": {},
   "source": [
    "**Part B**: Determine $P(T \\mid E)$ in terms of $p$ and $q$.\n",
    "\n",
    "$$P(T \\mid E) = \\frac{P(T \\cap E)}{P(E)} = \\frac{P(\\{GM\\})}{P(\\{GM, MG\\})} = \\frac{p(1-q)}{p(1-q) + (1-p)q} = \\frac{p(1-q)}{p + q -2pq}\n",
    "$$"
   ]
  },
  {
   "cell_type": "markdown",
   "metadata": {},
   "source": [
    "**Part C**: Explain why events $C$ and $T$ are independent.\n",
    "\n",
    "\n",
    "\n",
    "The probability that Tony wins and the probability that the duel is still tied after the first round is independent. Each round of the duel begins with Tony and Dan tied which will take place identically no matter of what they are in rounds. It could be any number of rounds. So Tony's probability of winning during the start compared to Dan's probability of winning on round 5 will be the same. This means that they are independent."
   ]
  },
  {
   "cell_type": "markdown",
   "metadata": {},
   "source": [
    "**Part D**: Use the Law of Total Probability to show that $P(T) = p(1-q) + (2pq - p - q +1) P(T \\mid C)$. \n",
    "\n",
    "\n",
    "\\begin{eqnarray}\n",
    "P(T) &=& P(T \\mid E)P(E) + P(T \\mid C)P(C) \\\\\n",
    "&1:& P(T \\mid E)P(\\{HM, MH\\}) + P(T \\mid C)P(\\{HH, MM\\})\\\\\n",
    "&2:& \\frac{p(1-q)}{p + q -2pq} P(\\{HM, MH\\}) + P(T \\mid C)P(\\{HH, MM\\})\\\\\n",
    "&3:& \\frac{p(1-q)}{p + q -2pq} \\left[P(HM)+ P(MH))\\right] + P(T \\mid C)\\left[P(HH) + P(MM)   \\right]\\\\\n",
    "&4:& \\frac{p(1-q)}{p + q -2pq} \\left[p(1-q)+ (1-p)q\\right] + P(T \\mid C)\\left[pq + (1-p)(1-q)   \\right]\\\\\n",
    "&5:& \\frac{p(1-q)}{p + q -2pq} \\left[p + q - 2pq\\right] + P(T \\mid C)\\left(2pq - p - q +1 \\right)\\\\  \n",
    "&6:& p(1-q) + P(T \\mid C)\\left(2pq - p - q +1 \\right) \n",
    "\\end{eqnarray}"
   ]
  },
  {
   "cell_type": "markdown",
   "metadata": {},
   "source": [
    "**Part E**: Use the fact from **Part C** that $P(T \\mid C) = P(T)$ to determine $P(T)$ in terms of $p$ and $q$. \n",
    "\n",
    "$$P(T) = p(1-q) + P(T \\mid C)\\left(2pq - p - q +1 \\right)$$\n",
    "$$P(T \\mid C) = P(T)$$\n",
    "$$P(T) = p(1-q) + P(T)\\left(2pq - p - q +1 \\right)$$\n",
    "$$P(T) \\left [1- \\left(2pq - p - q +1 \\right) \\right ]= p(1-q)$$\n",
    "$$P(T) = \\frac{p(1-q)}{-2pq + p + q }$$\n",
    "$$P(T) = \\frac{p(1-q)}{q(1-p)+p(1-q)}$$\n",
    "\n"
   ]
  },
  {
   "cell_type": "markdown",
   "metadata": {},
   "source": [
    "**Part F**: Explain why the answers to **Part B** and **Part E** are the same. \n",
    "\n",
    "The duel has cannot be biased due to previous rounds. If there is no winner it would not produce a different outcome. The probability that Tony wins will be the same in every possible round."
   ]
  },
  {
   "cell_type": "markdown",
   "metadata": {},
   "source": [
    "**Part G**: Explain the significance of the solution technique for $P(T)$ outlined in **Part D** and **Part E**.  Why did we go this route instead of computing $P(T)$ directly?  Can we always use such techniques?  What assumption did we need to make in order to use this solution approach?\n",
    "\n",
    "This only works if $T$ is independent of $C$. Without independence then we would have to account for more logic."
   ]
  },
  {
   "cell_type": "markdown",
   "metadata": {},
   "source": [
    "***\n",
    "<a/ id='p4'></a>\n",
    "[Back to top](#top)\n",
    "\n",
    "### [20 points] Problem 4\n",
    "\n",
    "In this problem you will write some code to simulate the game of **Miniopoly** (a very rough approximation of [Monopoly](https://en.wikipedia.org/wiki/Monopoly_(game)).  The game consists of a round board with 40 \"squares\" numbered from $0$ to $39$, where squares $0$ and would-be $40$ are [coincident](https://en.wikipedia.org/wiki/Coincident) and called **GO**.  A player starts on **GO** with \\$200 in their pocket.  On each turn the player rolls a pair of dice and then moves a number of spaces equal to the sum of the dice.  Landing on different squares have different results: \n",
    "\n",
    "- Squares 2, 7, 17, 22, 33, and 36 cause you to draw a card.  The cards tell you to collect \\$50, \\$100 or \\$200, or pay the bank \\$50 or \\$100.  There is always an equal probability associated with each of these possible cards.\n",
    "\n",
    "<p> </p>\n",
    "\n",
    "- Squares 0, 10, and 20 do not trigger any action \n",
    "\n",
    "<p> </p>\n",
    "\n",
    "- Square 30 is **Go To Jail**, which sends the player directly to **Jail** and ends the turn \n",
    "\n",
    "<p> </p>\n",
    "\n",
    "- If a player starts a turn from **Jail** she rolls two dice: \n",
    "\n",
    "    - If the player rolls doubles (i.e. the dice have equal values) the player moves from Square 10 a number of squares equal to the sum of the dice\n",
    "    \n",
    "    - If the player rolls anything other than doubles she pays the bank \\$20 and remains in **Jail** \n",
    "    \n",
    "<p> </p>\n",
    "\n",
    "- If the player passes or lands on **GO** she collects \\$200. \n",
    "\n",
    "<p> </p>\n",
    "\n",
    "- If the player lands on any other square not mentioned above, she pays the bank an amount equal to the square's number (e.g. if she lands on Square 29 she pays the bank \\$29). \n",
    "\n",
    "<p> </p>\n",
    "\n",
    "If at any point the player has \\$0 or less they go bankrupt and the game ends.\n",
    "\n",
    "See [here](http://www.cs.colorado.edu/~tonyewong/home/resources/miniopoly_example.png) for an example of the Miniopoly board layout.\n",
    "\n",
    "<br>\n",
    "\n",
    "**Part A**: Complete the function miniopoly_turn below. The function should simulate one turn of Miniopoly.  It should take as arguments the player's current location on the board as well as the player's current cash reserves, and return the player's new location and cash reserves after the turn has completed. Note that if a player goes bankrupt during the game you should return their cash as 0 instead of a negative value.  "
   ]
  },
  {
   "cell_type": "code",
   "execution_count": 43,
   "metadata": {
    "collapsed": true
   },
   "outputs": [],
   "source": [
    "def miniopoly_turn(location, cash):\n",
    "    if cash == 0:\n",
    "        return location, cash\n",
    "    one = np.random.choice(6)\n",
    "    two = np.random.choice(6)\n",
    "    if location == 30:\n",
    "        return location, cash\n",
    "    else:\n",
    "        location = location + one + two   \n",
    "    if location >= 40:\n",
    "        cash += 200\n",
    "        location = location-40\n",
    "    if location in [2,7,17,22,33,36]:\n",
    "        cash += np.random.choice([50,100,-100,-150])\n",
    "        return location, cash \n",
    "    if location == 30:\n",
    "        return location, cash \n",
    "    if location in list([0,10,20]):\n",
    "        return location,cash\n",
    "    else:\n",
    "        cash += -location\n",
    "        return location,cash\n",
    "    "
   ]
  },
  {
   "cell_type": "code",
   "execution_count": 44,
   "metadata": {},
   "outputs": [],
   "source": [
    "##**Part B**: Use your function from **Part A** to Simulate at least 5000 30-turn games of Miniopoly and make a frequency histogram of the player's cash at the end of the game. \n"
   ]
  },
  {
   "cell_type": "code",
   "execution_count": 45,
   "metadata": {},
   "outputs": [],
   "source": [
    "def simulate():\n",
    "    a = 0\n",
    "    b = 200\n",
    "    for num_turn in range(30):\n",
    "        a,b = miniopoly_turn(a,b)\n",
    "        if b <= 0:\n",
    "            return 0\n",
    "    return b\n",
    "\n",
    "num_game = 5000\n",
    "amount = np.zeros(num_game)\n",
    "for i in range(num_game):\n",
    "    amount[i] = simulate() #recursive  "
   ]
  },
  {
   "cell_type": "code",
   "execution_count": 46,
   "metadata": {},
   "outputs": [
    {
     "data": {
      "text/plain": [
       "<matplotlib.axes._subplots.AxesSubplot at 0x7ffb8f8be358>"
      ]
     },
     "execution_count": 46,
     "metadata": {},
     "output_type": "execute_result"
    },
    {
     "data": {
      "image/png": "[encoded data removed]",
      "text/plain": [
       "<Figure size 432x288 with 1 Axes>"
      ]
     },
     "metadata": {
      "needs_background": "light"
     },
     "output_type": "display_data"
    }
   ],
   "source": [
    "x = pd.Series(amount)\n",
    "x.hist()"
   ]
  },
  {
   "cell_type": "markdown",
   "metadata": {},
   "source": [
    "**Part C**: Use your code from **Part A** to estimate the probability that a player goes bankrupt in the first 30 turns of the game. "
   ]
  },
  {
   "cell_type": "code",
   "execution_count": 50,
   "metadata": {},
   "outputs": [
    {
     "data": {
      "text/plain": [
       "0.3"
      ]
     },
     "execution_count": 50,
     "metadata": {},
     "output_type": "execute_result"
    }
   ],
   "source": [
    "num_game = 30\n",
    "bank = 0\n",
    "for i in range(num_game):\n",
    "    if simulate() == 0:\n",
    "        bank += 1\n",
    "bank/num_game #not consistent"
   ]
  },
  {
   "cell_type": "markdown",
   "metadata": {},
   "source": [
    "**Part D**: Use your code from **Part A** to estimate the probability that a player goes bankrupt in the first 30 turns _given_ that they went to **Jail** at least once.  Is a player more or less likely to go bankrupt if they've been to **Jail**?  "
   ]
  },
  {
   "cell_type": "code",
   "execution_count": 68,
   "metadata": {},
   "outputs": [],
   "source": [
    "def jail():\n",
    "    bool_jail = False\n",
    "    a = 0\n",
    "    b = 200\n",
    "    for num_turn in range(30):\n",
    "        a,b = miniopoly_turn(a,b)\n",
    "        if a == 30:\n",
    "            bool_jail = True\n",
    "        if b <= 0:\n",
    "            if bool_jail:\n",
    "                return 0\n",
    "            else:\n",
    "                return jail()\n",
    "    if bool_jail:\n",
    "        return b\n",
    "    else:\n",
    "        return jail()"
   ]
  },
  {
   "cell_type": "code",
   "execution_count": 69,
   "metadata": {},
   "outputs": [
    {
     "name": "stdout",
     "output_type": "stream",
     "text": [
      "0.0\n"
     ]
    }
   ],
   "source": [
    "num_game = 10000\n",
    "bank = 0\n",
    "for i in range(num_game):\n",
    "    if jail() == 0:\n",
    "        bank += 1\n",
    "print (bank/num_game) #not consistent"
   ]
  },
  {
   "cell_type": "markdown",
   "metadata": {},
   "source": [
    "$$P(B \\mid J) = \\frac{P(P \\mid B)P(B)}{P(J)} \\approx 0.20009 \\approx 20.01 \\%$$"
   ]
  },
  {
   "cell_type": "markdown",
   "metadata": {},
   "source": [
    "**Part E**: Use your code from **Part A** to estimate the probability (either directly or using Bayes' Rule) that a player has gone to jail at least once, given that the player went bankrupt in the first 30 turns."
   ]
  },
  {
   "cell_type": "markdown",
   "metadata": {},
   "source": [
    "$$P(J\\mid B) = \\frac{P(B|J)P(J)}{P(B)}$$\n",
    "$$P(B) = 0.30$$\n",
    "$$P(B\\mid J) = 0.20$$\n",
    "$$P(J|B)=69.64\\%$$\n",
    "$$= Jail$$"
   ]
  },
  {
   "cell_type": "markdown",
   "metadata": {},
   "source": [
    "***\n",
    "<a/ id='p5'></a>\n",
    "[Back to top](#top)\n",
    "\n",
    "### [20 points] Problem 5\n",
    "\n",
    "Suppose you roll two fair six-sided dice.  Let $C$ be the event that the two rolls are _close_ to one another in value, in the sense that they're either equal or differ by only 1.  \n",
    "\n",
    "**Part A**: Compute $P(C)$ by hand. \n"
   ]
  },
  {
   "cell_type": "markdown",
   "metadata": {},
   "source": [
    "$$P(C) = \\frac{16}{36} \\approx 44.44$$"
   ]
  },
  {
   "cell_type": "markdown",
   "metadata": {},
   "source": [
    "**Part B**: Write a simulation to run many trials (at least 10,000) of the pair of rolls and estimate the value of $P(C)$ you calculated in **Part A**.  Does your estimate agree with the exact calculation you did in **Part A**?  If not, try increasing the number of trials in your simulation. "
   ]
  },
  {
   "cell_type": "code",
   "execution_count": 10,
   "metadata": {},
   "outputs": [
    {
     "name": "stdout",
     "output_type": "stream",
     "text": [
      "0.44155\n"
     ]
    }
   ],
   "source": [
    "rand_dice = np.array([1,2,3,4,5,6])\n",
    "rolls = 20000\n",
    "roll_1 = np.random.choice(rand_dice,rolls)\n",
    "roll_2 = np.random.choice(rand_dice,rolls)\n",
    "diff_1 = np.abs(roll_1-roll_2)\n",
    "diff_2 = diff_1[diff_1<=1]\n",
    "value = (len(diff_2)/rolls)\n",
    "print (value)"
   ]
  },
  {
   "cell_type": "markdown",
   "metadata": {},
   "source": [
    "**Part C**: In the in-class notebook associated with Lecture 4 (nb04) we plotted a running estimate of the probability of an event as a function of the number of trials in our simulation.  Write code to run at least 10 independent simulations of at least 50,000 trials each to estimate $P(C)$ and plot their running estimate curves on the same set of axes. **Hint**: This is a lot of computation, so try to leverage Numpy as much as possible so that your code doesn't run forever. "
   ]
  },
  {
   "cell_type": "code",
   "execution_count": 13,
   "metadata": {},
   "outputs": [
    {
     "data": {
      "text/plain": [
       "Text(0,0.5,'P(C)')"
      ]
     },
     "execution_count": 13,
     "metadata": {},
     "output_type": "execute_result"
    },
    {
     "data": {
      "image/png": "[encoded data removed]",
      "text/plain": [
       "<Figure size 864x576 with 1 Axes>"
      ]
     },
     "metadata": {
      "needs_background": "light"
     },
     "output_type": "display_data"
    }
   ],
   "source": [
    "rand_dice = np.array([1,2,3,4,5,6])\n",
    "rolls = 60000\n",
    "fig, ax = plt.subplots(figsize = (12,8))\n",
    "for j in range(0,10):\n",
    "    roll_1 = np.random.choice(rand_dice,size = rolls)\n",
    "    roll_2 = np.random.choice(rand_dice,size = rolls)\n",
    "    plot = np.zeros(len(roll_1))\n",
    "    for i in range(rolls):\n",
    "        plot[i] = np.sum(np.abs(roll_1[:i+1] - roll_2[:i+1]) <= 1) / len(roll_1[:i+1])\n",
    "    ax.plot(plot)\n",
    "ax.grid(True, alpha = 0.25)\n",
    "ax.set_title('Simulation', fontsize = 16)\n",
    "ax.set_xlabel('Observations', fontsize = 12)\n",
    "ax.set_ylabel('P(C)', fontsize = 12)"
   ]
  },
  {
   "cell_type": "markdown",
   "metadata": {},
   "source": [
    "**Part D**: Comment on the behavior of the running estimates as the number of trials increases. "
   ]
  },
  {
   "cell_type": "markdown",
   "metadata": {},
   "source": [
    "It is clear that taken the limit of the diagram we can see the convergence of the function to be the computed P(C), %44.44"
   ]
  },
  {
   "cell_type": "markdown",
   "metadata": {},
   "source": [
    "***\n",
    "<a/ id='ch'></a>\n",
    "[Back to top](#top)\n",
    "\n",
    "### Challenge Problem - Night Falls. A Storm Rolls In. Can You Cross The River?\n",
    "\n",
    "In every homework assignment we'll give you a Challenge Problem.  Challenge Problems never need to be turned in (and in fact, will not be graded) but we encourage you to give them a shot (after completing the required homework problems) and discuss them with your classmates and your instructors. \n",
    "\n",
    "This Challenge Problem was a [Riddler](https://fivethirtyeight.com/tag/the-riddler/) on [FiveThirtyEight](https://fivethirtyeight.com) a few years back. \n",
    "\n",
    "You’re on the north shore of a river, and want to cross to the south, via a series of 13 bridges and six islands, which you can see in the diagram below. But, as you approach the water, night falls, a bad storm rolls in, and you’re forced to wait until morning to try to cross. Overnight, the storm could render some of the bridges unusable — it has a 50 percent chance of knocking out each of the bridges. (The chance is independent for each bridge.)\n",
    "\n",
    "<br>\n",
    "\n",
    "![alt text](https://espnfivethirtyeight.files.wordpress.com/2016/01/roeder-riddler-diagram-11.png?w=575&h=449&quality=90&strip=info)\n",
    "\n",
    "<br>\n",
    "\n",
    "What’s the probability you will be able to cross the river in the morning? (You have no boat, can’t swim, can’t fix the bridges, etc. No tricks.)"
   ]
  },
  {
   "cell_type": "code",
   "execution_count": null,
   "metadata": {
    "collapsed": true
   },
   "outputs": [],
   "source": []
  }
 ],
 "metadata": {
  "kernelspec": {
   "display_name": "Python 3",
   "language": "python",
   "name": "python3"
  },
  "language_info": {
   "codemirror_mode": {
    "name": "ipython",
    "version": 3
   },
   "file_extension": ".py",
   "mimetype": "text/x-python",
   "name": "python",
   "nbconvert_exporter": "python",
   "pygments_lexer": "ipython3",
   "version": "3.6.6"
  }
 },
 "nbformat": 4,
 "nbformat_minor": 2
}
