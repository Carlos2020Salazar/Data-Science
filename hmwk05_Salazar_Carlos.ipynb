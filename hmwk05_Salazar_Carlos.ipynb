{
 "cells": [
  {
   "cell_type": "markdown",
   "metadata": {},
   "source": [
    "<a id='top'></a>\n",
    "\n",
    "# Homework 5: Confidence intervals and other things\n",
    "***\n",
    "\n",
    "**Name**: Carlos Salazar\n",
    "\n",
    "***\n",
    "\n",
    "This assignment is due on Moodle by **5 PM on Friday November 9**. Your solutions to theoretical questions should be done in Markdown/MathJax directly below the associated question.  Your solutions to computational questions should include any specified Python code and results as well as written commentary on your conclusions.  Remember that you are encouraged to discuss the problems with your instructors and classmates, but **you must write all code and solutions on your own**.  \n",
    "\n",
    "**NOTES**: \n",
    "\n",
    "- Do **NOT** load or use any Python packages that are not available in Anaconda 3.6. \n",
    "- Some problems with code may be autograded.  If we provide a function API **do not** change it.  If we do not provide a function API then you're free to structure your code however you like. \n",
    "- Because you can technically evaluate notebook cells is a non-linear order, it's a good idea to do Cell $\\rightarrow$ Run All as a check before submitting your solutions.  That way if we need to run your code you will know that it will work as expected. \n",
    "- Submit only this Jupyter notebook to Moodle.  Do not compress it using tar, rar, zip, etc. \n",
    "- This should go without saying, but... For any question that asks you to calculate something, you **must show all work to receive credit**. Sparse or nonexistent work will receive sparse or nonexistent credit.\n",
    "\n",
    "---\n",
    "**Shortcuts:**  [Problem 1](#p1) | [Problem 2](#p2) | [Problem 3](#p3) | [Problem 4](#p4)\n",
    "\n",
    "---"
   ]
  },
  {
   "cell_type": "code",
   "execution_count": 2,
   "metadata": {
    "scrolled": true
   },
   "outputs": [],
   "source": [
    "import numpy as np\n",
    "import matplotlib.pyplot as plt\n",
    "import pandas as pd\n",
    "import scipy.stats as stats\n",
    "import math\n",
    "%matplotlib inline"
   ]
  },
  {
   "cell_type": "markdown",
   "metadata": {},
   "source": [
    "---\n",
    "\n",
    "<a id='p1'></a>\n",
    "[Back to top](#top)\n",
    "\n",
    "### [30 points] Problem 1 - Sea-level rise, schmee-level rise!\n",
    "\n",
    "You have been contacted by the local government of Key West, Florida, to assess whether there is statistical evidence for sea-level rise in the area. You obtain from the University of Hawaii Sea Level Center's [gigantic repository of sea-level data](https://uhslc.soest.hawaii.edu/data/?rq) the daily mean sea levels file [linked here](https://piazza.com/class_profile/get_resource/jhaqogsdelf76h/jixzm0rl5dp6y4) and below.\n",
    "\n",
    "In this problem, you will:\n",
    "1. practice calculating confidence intervals, \n",
    "1. practice wrangling a real-life data set into a form where you can actually compute these confidence intervals, because life will rarely be so kind as to simply hand you a nicely packaged and cleaned set of data, and\n",
    "1. save Key West from a watery fate?"
   ]
  },
  {
   "cell_type": "code",
   "execution_count": 65,
   "metadata": {},
   "outputs": [
    {
     "data": {
      "text/html": [
       "<div>\n",
       "<style scoped>\n",
       "    .dataframe tbody tr th:only-of-type {\n",
       "        vertical-align: middle;\n",
       "    }\n",
       "\n",
       "    .dataframe tbody tr th {\n",
       "        vertical-align: top;\n",
       "    }\n",
       "\n",
       "    .dataframe thead th {\n",
       "        text-align: right;\n",
       "    }\n",
       "</style>\n",
       "<table border=\"1\" class=\"dataframe\">\n",
       "  <thead>\n",
       "    <tr style=\"text-align: right;\">\n",
       "      <th></th>\n",
       "      <th>Year</th>\n",
       "      <th>Month</th>\n",
       "      <th>Day</th>\n",
       "      <th>SL</th>\n",
       "    </tr>\n",
       "  </thead>\n",
       "  <tbody>\n",
       "    <tr>\n",
       "      <th>0</th>\n",
       "      <td>1913</td>\n",
       "      <td>1</td>\n",
       "      <td>20</td>\n",
       "      <td>1453</td>\n",
       "    </tr>\n",
       "    <tr>\n",
       "      <th>1</th>\n",
       "      <td>1913</td>\n",
       "      <td>1</td>\n",
       "      <td>21</td>\n",
       "      <td>1439</td>\n",
       "    </tr>\n",
       "    <tr>\n",
       "      <th>2</th>\n",
       "      <td>1913</td>\n",
       "      <td>1</td>\n",
       "      <td>22</td>\n",
       "      <td>1444</td>\n",
       "    </tr>\n",
       "    <tr>\n",
       "      <th>3</th>\n",
       "      <td>1913</td>\n",
       "      <td>1</td>\n",
       "      <td>23</td>\n",
       "      <td>1489</td>\n",
       "    </tr>\n",
       "    <tr>\n",
       "      <th>4</th>\n",
       "      <td>1913</td>\n",
       "      <td>1</td>\n",
       "      <td>24</td>\n",
       "      <td>1474</td>\n",
       "    </tr>\n",
       "  </tbody>\n",
       "</table>\n",
       "</div>"
      ],
      "text/plain": [
       "   Year  Month  Day    SL\n",
       "0  1913      1   20  1453\n",
       "1  1913      1   21  1439\n",
       "2  1913      1   22  1444\n",
       "3  1913      1   23  1489\n",
       "4  1913      1   24  1474"
      ]
     },
     "execution_count": 65,
     "metadata": {},
     "output_type": "execute_result"
    }
   ],
   "source": [
    "local_path = \"data/sealevel_keywest.csv\"\n",
    "web_path   = \"https://raw.githubusercontent.com/dblarremore/csci3022/master/homework/homework5/data/sealevel_keywest.csv\"\n",
    "file_path  = local_path\n",
    "dfSL = pd.read_csv(web_path, header=None)\n",
    "dfSL.rename(columns={0 : 'Year', 1 : 'Month', 2 : 'Day', 3 : 'SL'}, inplace=True)\n",
    "dfSL.head()"
   ]
  },
  {
   "cell_type": "markdown",
   "metadata": {},
   "source": [
    "**Part A:**  Write a function `clean_data` to:\n",
    "1. take in a single argument of a raw sea level data frame (e.g., `dfSL` above),\n",
    "2. compute the fill-value used to replace missing sea level (SL) data (**not** hard-coded!),\n",
    "3. use the Pandas `DataFrame.dropna` method to remove all missing rows of data, \n",
    "4. select only the data point on the second day of each month, and\n",
    "4. return a cleaned Pandas data frame.\n",
    "\n",
    "Use your shiny new function to clean the `dfSL` data frame and save the results in a new data frame.\n",
    "\n",
    "There is a very specific reason to sample only one daily data point per month. We will talk about it later."
   ]
  },
  {
   "cell_type": "code",
   "execution_count": 4,
   "metadata": {},
   "outputs": [
    {
     "data": {
      "text/html": [
       "<div>\n",
       "<style scoped>\n",
       "    .dataframe tbody tr th:only-of-type {\n",
       "        vertical-align: middle;\n",
       "    }\n",
       "\n",
       "    .dataframe tbody tr th {\n",
       "        vertical-align: top;\n",
       "    }\n",
       "\n",
       "    .dataframe thead th {\n",
       "        text-align: right;\n",
       "    }\n",
       "</style>\n",
       "<table border=\"1\" class=\"dataframe\">\n",
       "  <thead>\n",
       "    <tr style=\"text-align: right;\">\n",
       "      <th></th>\n",
       "      <th>Year</th>\n",
       "      <th>Month</th>\n",
       "      <th>Day</th>\n",
       "      <th>SL</th>\n",
       "    </tr>\n",
       "  </thead>\n",
       "  <tbody>\n",
       "    <tr>\n",
       "      <th>0</th>\n",
       "      <td>1913</td>\n",
       "      <td>1</td>\n",
       "      <td>20</td>\n",
       "      <td>1453</td>\n",
       "    </tr>\n",
       "    <tr>\n",
       "      <th>1</th>\n",
       "      <td>1913</td>\n",
       "      <td>1</td>\n",
       "      <td>21</td>\n",
       "      <td>1439</td>\n",
       "    </tr>\n",
       "    <tr>\n",
       "      <th>2</th>\n",
       "      <td>1913</td>\n",
       "      <td>1</td>\n",
       "      <td>22</td>\n",
       "      <td>1444</td>\n",
       "    </tr>\n",
       "    <tr>\n",
       "      <th>3</th>\n",
       "      <td>1913</td>\n",
       "      <td>1</td>\n",
       "      <td>23</td>\n",
       "      <td>1489</td>\n",
       "    </tr>\n",
       "    <tr>\n",
       "      <th>4</th>\n",
       "      <td>1913</td>\n",
       "      <td>1</td>\n",
       "      <td>24</td>\n",
       "      <td>1474</td>\n",
       "    </tr>\n",
       "  </tbody>\n",
       "</table>\n",
       "</div>"
      ],
      "text/plain": [
       "   Year  Month  Day    SL\n",
       "0  1913      1   20  1453\n",
       "1  1913      1   21  1439\n",
       "2  1913      1   22  1444\n",
       "3  1913      1   23  1489\n",
       "4  1913      1   24  1474"
      ]
     },
     "execution_count": 4,
     "metadata": {},
     "output_type": "execute_result"
    }
   ],
   "source": [
    "def clean_data(dfSL):\n",
    "    stdev= dfSL['SL'].std()\n",
    "    dfSL.drop(dfSL.loc[dfSL['SL'] < 0].index, inplace = True)\n",
    "    dfClean = dfSL\n",
    "    return dfClean\n",
    "#initialize and call\n",
    "dfClean = clean_data(dfSL)\n",
    "dfClean.head()"
   ]
  },
  {
   "cell_type": "markdown",
   "metadata": {},
   "source": [
    "**Part B:**  Plot the cleaned time series of sea levels. Be sure to label your axes, including units. The UHSLC data portal includes a link to the metadata accompanying our data set; if you are not sure about units, that would be a good place to start looking. For the $x$-axis, place the $x$ tick marks on January 2 of each year that is divisible by 10 (i.e., 1920, 1930, ...), and label with that year. You may need to do additional processing in order to grab these indices. \n",
    "\n",
    "**Bonus challenge (0 points):**  Why do we choose to work with the second day of each month instead of the first?  You may need to look at the original data set to answer this."
   ]
  },
  {
   "cell_type": "code",
   "execution_count": 5,
   "metadata": {},
   "outputs": [
    {
     "data": {
      "text/plain": [
       "([<matplotlib.axis.XTick at 0x7fa27667e358>,\n",
       "  <matplotlib.axis.XTick at 0x7fa276666c50>,\n",
       "  <matplotlib.axis.XTick at 0x7fa2766669e8>,\n",
       "  <matplotlib.axis.XTick at 0x7fa276627908>,\n",
       "  <matplotlib.axis.XTick at 0x7fa276627dd8>,\n",
       "  <matplotlib.axis.XTick at 0x7fa27663f320>,\n",
       "  <matplotlib.axis.XTick at 0x7fa27663f860>,\n",
       "  <matplotlib.axis.XTick at 0x7fa27663fda0>,\n",
       "  <matplotlib.axis.XTick at 0x7fa276644320>,\n",
       "  <matplotlib.axis.XTick at 0x7fa27663f7b8>],\n",
       " <a list of 10 Text xticklabel objects>)"
      ]
     },
     "execution_count": 5,
     "metadata": {},
     "output_type": "execute_result"
    },
    {
     "data": {
      "image/png": "[encoded data removed]",
      "text/plain": [
       "<Figure size 504x432 with 1 Axes>"
      ]
     },
     "metadata": {
      "needs_background": "light"
     },
     "output_type": "display_data"
    }
   ],
   "source": [
    "#pseudocode implementation\n",
    "dfClean.sort_values(['Year', 'Month', 'Day'], ascending=[True, True, True], inplace= True)\n",
    "data_frame = dfClean.loc[dfClean['Day'] == 2]\n",
    "fig, ax = plt.subplots(nrows = 1, ncols = 1, figsize = (7,6))\n",
    "ax.plot(dfClean.Year.values, dfClean.SL.values, color = \"violet\")\n",
    "ax.grid(True, alpha = 0.25)\n",
    "ax.set_ylabel(\"Rise in Sea Level(mm)\", fontsize=12)\n",
    "ax.set_title(\"Overtime Sea Level\", fontsize=16)\n",
    "ax.set_axisbelow(True)\n",
    "ax.set_xlabel(\"Decades (years)\", fontsize=12)\n",
    "plt.xticks(np.arange(min(data_frame.Year.values)+7, max(data_frame.Year.values)+1, 10))"
   ]
  },
  {
   "cell_type": "markdown",
   "metadata": {},
   "source": [
    "**Part C:** Use your cleaned sea levels data frame to create two new Pandas data frames or series:\n",
    "1. one object to contain the sea levels between (and including) the years 1986 and 1995, and\n",
    "2. another object to contain the sea levels between (and including) the years 2006 and 2015.\n",
    "\n",
    "Then, create a single-panel figure that includes density histograms of each decade of sea levels. Be sure to label everything appropriately.\n",
    "\n",
    "Finally, based on the data in front of you, formulate and state a hypothesis about how the mean sea level in the decade 2006-2015 compares to the mean sea level in the decade 1986-1995."
   ]
  },
  {
   "cell_type": "code",
   "execution_count": 6,
   "metadata": {},
   "outputs": [
    {
     "data": {
      "image/png": "[encoded data removed]",
      "text/plain": [
       "<Figure size 720x432 with 1 Axes>"
      ]
     },
     "metadata": {
      "needs_background": "light"
     },
     "output_type": "display_data"
    }
   ],
   "source": [
    "data_Frame1= dfClean.loc[(dfClean['Year'] >= 1986) & (dfClean['Year'] <= 1995)]\n",
    "data_Frame2= dfClean.loc[(dfClean['Year'] >= 2006) & (dfClean['Year'] <= 2015)]\n",
    "data_Frame1.head()\n",
    "data_Frame2.head()\n",
    "def sl_histogram(df, df2):\n",
    "    fig, ax = plt.subplots(nrows=1, ncols=1, figsize=(10,6))\n",
    "    df2[\"SL\"].hist(ax=ax, alpha = .25,\n",
    "    color=\"yellow\", edgecolor=\"black\", rwidth=2, density=True, label= \"2006-2015\" )\n",
    "    df[\"SL\"].hist(ax=ax, alpha = .25,\n",
    "    color=\"blue\", edgecolor=\"black\", rwidth=2, density=True, label = \"1986-1995\")\n",
    "    ax.grid(alpha=0.25)\n",
    "    ax.set_axisbelow(True)\n",
    "    ax.set_xlabel(\"Rise in Sea Level (mm)\", fontsize=15)\n",
    "    ax.set_ylabel(\"Density\", fontsize=15)\n",
    "    ax.set_title(\"Density of Sea Levels in Key West, FL\", fontsize=25)\n",
    "    ax.legend()\n",
    "sl_histogram(data_Frame1, data_Frame2)"
   ]
  },
  {
   "cell_type": "markdown",
   "metadata": {},
   "source": [
    "Based on the skew of the graphs above we can conclude that there is a difference between the first and last due to the mean in the 2006-2015 plot."
   ]
  },
  {
   "cell_type": "markdown",
   "metadata": {},
   "source": [
    "**Part D:** Compute a 99.9% confidence interval for each of (1) the mean sea level in the 1986-1995 decade ($\\mu_{1986-1995}$) and (2) the mean sea level in the 2006-2015 decade ($\\mu_{2006-2015}$).  You may use Python for arithmetic operations and executing the calculations, but the relevant steps/set-up should be displayed in Markdown/MathJax.\n",
    "\n",
    "Based on these two confidence intervals, do you think there is sufficient evidence to conclude that there is or is not a significant difference in the mean sea level between 1986-1995 and 2006-2015? Justify your answer. "
   ]
  },
  {
   "cell_type": "markdown",
   "metadata": {},
   "source": [
    "$$\n",
    "\\text{Formula for CI}\\\\\n",
    "\\bar{x} \\pm Z_{\\alpha /2} \\cdot \\frac{\\sigma}{\\sqrt{n}}\\\\\n",
    "\\text{99.9% CI : } \\alpha = 0.001\\\\   \n",
    "Z_{\\frac{0.001}{2}}= -3.290 \\\\  \n",
    "[~ 1661.086, 1671.663~]\\\\  \n",
    "\\text{(CI 1986-1995)}\\\\   \n",
    "[~1719.225, 1731.127~]\\\\\n",
    "\\text{(CI 2006-2015)}\\\\ \n",
    "$$"
   ]
  },
  {
   "cell_type": "code",
   "execution_count": 7,
   "metadata": {},
   "outputs": [
    {
     "name": "stdout",
     "output_type": "stream",
     "text": [
      "(1661.0855318792403, 1671.6633643680004)\n",
      "(1719.2245556336081, 1731.1266988466784)\n",
      "-3.29052673149\n"
     ]
    }
   ],
   "source": [
    "z= stats.norm.ppf(0.001/2)\n",
    "x_1= data_Frame1.SL.mean()\n",
    "s_1= data_Frame1.SL.std()\n",
    "n_1= data_Frame1.SL.count()\n",
    "x_2= data_Frame2.SL.mean()\n",
    "s_2= data_Frame2.SL.std()\n",
    "n_2= data_Frame2.SL.count()\n",
    "min_1= x_1+ (z*s_1/math.sqrt(n_1))\n",
    "max_1= x_1-(z*s_1/math.sqrt(n_1))\n",
    "min_2= x_2+(z*s_2/math.sqrt(n_2))\n",
    "max_2= x_2-(z*s_2/math.sqrt(n_2))\n",
    "print((min_1,max_1))\n",
    "print((min_2,max_2))\n",
    "print(z)"
   ]
  },
  {
   "cell_type": "markdown",
   "metadata": {},
   "source": [
    "**Part E:**  Compute a 99.9% confidence interval for the ***difference in mean sea level*** between the 2006-2015 and the 1986-1995 decades ($\\mu_{2006-2015} - \\mu_{1986-1995}$. Based on this, make a conclusion regarding your hypothesis from **Part C**, and compare to what your results in **Part D** implied. You may use Python for arithmetic operations and executing the calculations, but the relevant steps/set-up should be displayed in Markdown/MathJax."
   ]
  },
  {
   "cell_type": "markdown",
   "metadata": {},
   "source": [
    "$$\n",
    "\\text{99.9% CI : } \\alpha = 0.001\\\\\n",
    " \\text{ Difference of CI means}\\\\  \n",
    "\\bar{x}_{1} - \\bar{x}_{2} \\pm Z_{\\alpha /2} \\cdot \\sqrt{\\frac{\\sigma_{1}^2}{n_{1}} + \\frac{\\sigma_{2}^2}{n_{2}}}\\\\  \n",
    "\\text{CI Means Difference}\\\\  \n",
    "\\text{==================}\\\\   \n",
    "[~ 50.840, 66.763~]\\\\  \n",
    "$$"
   ]
  },
  {
   "cell_type": "code",
   "execution_count": 8,
   "metadata": {},
   "outputs": [
    {
     "name": "stdout",
     "output_type": "stream",
     "text": [
      "50.8395280122 66.7628302208\n",
      "-3.29052673149\n"
     ]
    }
   ],
   "source": [
    "z= stats.norm.ppf((1-0.999)/2)\n",
    "x_1= data_Frame1.SL.mean()\n",
    "s_1= data_Frame1.SL.std()\n",
    "n_1= data_Frame1.SL.count()\n",
    "x_2= data_Frame2.SL.mean()\n",
    "s_2= data_Frame2.SL.std()\n",
    "n_2= data_Frame2.SL.count()\n",
    "#c_min/max formulas implemented\n",
    "c_min= x_2 - x_1 + (z*math.sqrt((s_1**2/n_1)+(s_2**2/n_2)))\n",
    "c_max= x_2 - x_1 - (z*math.sqrt((s_1**2/n_1)+(s_2**2/n_2)))\n",
    "print(c_min,c_max)\n",
    "print(z)"
   ]
  },
  {
   "cell_type": "markdown",
   "metadata": {},
   "source": [
    "Since the difference in means is approximately between 50mm and 67mm that demonstrates a significnace in sea level difference. This allows us to understand the significance in confidence intervals since they do not overlap."
   ]
  },
  {
   "cell_type": "markdown",
   "metadata": {},
   "source": [
    "**Part F:**  The confidence intervals from **Parts D** and **E** were derived using the Central Limit Theorem.  Which assumption of the Central Limit Theorem would likely be violated if we took more than one measurement per month to form our samples, and why?"
   ]
  },
  {
   "cell_type": "markdown",
   "metadata": {},
   "source": [
    "That would directly neglect the Central Limit Theorem since we would be taking more than the 10% cap of the sample size."
   ]
  },
  {
   "cell_type": "markdown",
   "metadata": {},
   "source": [
    "---\n",
    "\n",
    "<a id='p2'></a>\n",
    "[Back to top](#top)\n",
    "\n",
    "### [25 points] Problem 2 - Quality of Red vs White Wine \n",
    "\n",
    "**Part A:** Load the data in [`winequalityred.csv`](https://piazza.com/class_profile/get_resource/jhaqogsdelf76h/jixzm1ebc6q6ye) and [`winequalitywhite.csv`](https://piazza.com/class_profile/get_resource/jhaqogsdelf76h/jixzm17x9pu6y9) into Pandas DataFrames.  They are available under Resources on Piazza, and linked here and below.  A description of this dataset can be found on [UC Irvine's Machine Learning Repository](https://archive.ics.uci.edu/ml/datasets/Wine+Quality). The quantity of interest for this problem is the quality of the wine.\n",
    "\n",
    "Are we justified in using the Central Limit Theorem in our analysis of estimates of the mean and proportions of the data?  Justify your response. "
   ]
  },
  {
   "cell_type": "code",
   "execution_count": 9,
   "metadata": {},
   "outputs": [],
   "source": [
    "white_wine_file = \"https://raw.githubusercontent.com/dblarremore/csci3022/master/homework/homework5/data/winequality-white.csv\"\n",
    "red_wine_file   = \"https://raw.githubusercontent.com/dblarremore/csci3022/master/homework/homework5/data/winequality-red.csv\"\n",
    "Rsample   = pd.read_csv(red_wine_file, delimiter=';')\n",
    "Wsample = pd.read_csv(white_wine_file, delimiter=';')"
   ]
  },
  {
   "cell_type": "code",
   "execution_count": 10,
   "metadata": {},
   "outputs": [
    {
     "name": "stdout",
     "output_type": "stream",
     "text": [
      "The number of red wine entries is 1599 and the number of white wine entries is 4898\n"
     ]
    }
   ],
   "source": [
    "dfRed = pd.read_csv(\"https://raw.githubusercontent.com/dblarremore/csci3022/master/homework/homework5/data/winequality-red.csv\", sep=\";\")\n",
    "dfWhite = pd.read_csv(\"https://raw.githubusercontent.com/dblarremore/csci3022/master/homework/homework5/data/winequality-white.csv\", sep=\";\")\n",
    "print(\"The number of red wine entries is {} and the number of white wine entries is {}\".format(len(dfRed),len(dfWhite)))"
   ]
  },
  {
   "cell_type": "markdown",
   "metadata": {},
   "source": [
    "This follows the Central Limit Theorem given m = 1599 red wine samples and n = 4898 white wine samples."
   ]
  },
  {
   "cell_type": "markdown",
   "metadata": {},
   "source": [
    "**Part B:** Let $X$ be a random variable denoting the quality of a bottle of wine, and let $C$ be a random variable denoting its color (either red ($r$) or white ($w$)). For the remainder of this problem, we are concerned with probabilities such as \"If I buy a random bottle of red wine, what is the probability that its quality is at least a 7?\". We could write that probability as $P(X \\geq 7 \\mid C=r)$, for example, and consider it the ***proportion*** of the population of red wines that are at least a 7 in quality. Calculate and report estimates of $P(X \\geq 7 \\mid C=r)$ and $P(X \\geq 7 \\mid C=w)$.\n",
    "\n",
    "Obtain 95% confidence intervals for the proportion of red and white wines that are **at least** a 7 in quality (obtain one CI for each color).  Based on your results, if you are interested in buying many high quality bottles of wine but are buying totally at random, is one color a better bet than the other? Fully justify your answer.\n",
    "\n",
    "\n",
    "Calculations may be executed in Python, but you need to set up your work (*what* it is you are calculating) in Markdown/MathJax."
   ]
  },
  {
   "cell_type": "markdown",
   "metadata": {},
   "source": [
    "$$\n",
    "\\text{Formula for CI}\\\\  \n",
    "\\hat{P} \\pm Z_{\\alpha /2} \\cdot \\sqrt{\\frac{p(1-p)}{n}} \\\\\n",
    "\\text{95% CI =α=0.05}\\\\\n",
    "\\text{z = PPF(0.025)} \\\\\n",
    "P(X \\geq 7 \\mid C=r) = 0.136 \\text{ and } P(X \\geq 7 \\mid C=w) = 0.216\n",
    "$$\n"
   ]
  },
  {
   "cell_type": "code",
   "execution_count": 11,
   "metadata": {},
   "outputs": [
    {
     "name": "stdout",
     "output_type": "stream",
     "text": [
      "# of Red having quality >= 7: is 217\n",
      "# of White having quality >= 7: is 1060\n"
     ]
    }
   ],
   "source": [
    "Red_sample=np.sum(np.array(Rsample.quality)>=7)\n",
    "White_sample=np.sum(np.array(Wsample.quality)>=7)\n",
    "print(\"# of Red having quality >= 7: is\", Red_sample)\n",
    "print(\"# of White having quality >= 7: is\", White_sample)"
   ]
  },
  {
   "cell_type": "code",
   "execution_count": 16,
   "metadata": {},
   "outputs": [
    {
     "name": "stdout",
     "output_type": "stream",
     "text": [
      "(Probability theres White wine with with quality >=7) =  0.216414863209\n",
      "White CI:  0.204882313436 0.227947412983\n",
      "(Probability theres Red wine with with quality >=7) = 0.135709818637\n",
      "Red CI:  0.118923352301 0.152496284972\n"
     ]
    }
   ],
   "source": [
    "z1 = stats.norm.ppf(0.975)\n",
    "P1 = Red_sample/(Rsample.quality.count())\n",
    "SER1 = np.sqrt((P1*(1-P1))/(Rsample.quality.count()))\n",
    "z2 = stats.norm.ppf(0.975)\n",
    "P2 = White_sample/(Wsample.quality.count())\n",
    "SER2 = np.sqrt((P2*(1-P2))/(Wsample.quality.count()))\n",
    "print(\"(Probability theres White wine with with quality >=7) = \", P2)\n",
    "print(\"White CI: \", P2-z2*SER2, P2+z2*SER2)\n",
    "print(\"(Probability theres Red wine with with quality >=7) =\", P1)\n",
    "print(\"Red CI: \", P1-z1*SER1, P1+z1*SER1)\n"
   ]
  },
  {
   "cell_type": "markdown",
   "metadata": {},
   "source": [
    "This demonstrates that one should almost always get White wine since you are more likely "
   ]
  },
  {
   "cell_type": "markdown",
   "metadata": {},
   "source": [
    "**Part C:** Now, as college students (and teachers), we might not be super concerned with buying a really high quality bottle of wine.  Let's focus instead on making sure we do *not* buy a really disgusting bottle of wine.  Calculate and report estimates of $P(X \\geq 5 \\mid C=r)$ and $P(X \\geq 5 \\mid C=w)$.\n",
    "\n",
    "Obtain 95% confidence intervals for the proportion of red and white wines that are **at least** a 5 in quality, that is, $P(X \\geq 5 \\mid C)$.  Based on your results - and what you saw in Problem 1 - if you are interested in buying bottles of wine that are at least a 5 in quality, but are again buying wine totally randomly, can you conclude that you are better off buying one color over the other? Fully justify your answer."
   ]
  },
  {
   "cell_type": "code",
   "execution_count": 17,
   "metadata": {},
   "outputs": [
    {
     "name": "stdout",
     "output_type": "stream",
     "text": [
      "Number of red with quality >= 5:  1536\n",
      "Number of white with quality >= 7: 4715\n"
     ]
    }
   ],
   "source": [
    "Red_sample=np.sum(np.array(Rsample.quality)>=5)\n",
    "White_sample=np.sum(np.array(Wsample.quality)>=5)\n",
    "print(\"Number of red with quality >= 5: \", Red_sample)\n",
    "print(\"Number of white with quality >= 5:\" , White_sample)"
   ]
  },
  {
   "cell_type": "code",
   "execution_count": 22,
   "metadata": {},
   "outputs": [
    {
     "name": "stdout",
     "output_type": "stream",
     "text": [
      "Probability that Red is quality >=5:  0.960600375235\n",
      "Red CI:  0.951064923374 0.970135827095\n",
      "Probability that White is  >=5:  0.962637811352\n",
      "White CI:  0.953102359491 0.972173263212\n"
     ]
    }
   ],
   "source": [
    "z = stats.norm.ppf(0.975)\n",
    "Prob = Red_sample/(Rsample.quality.count())\n",
    "SER = np.sqrt((Prob*(1-Prob))/(Rsample.quality.count()))\n",
    "z = stats.norm.ppf(0.975)\n",
    "Prob2 = White_sample/(Wsample.quality.count())\n",
    "SER2 = np.sqrt((Prob*(1-Prob2))/(Wsample.quality.count()))\n",
    "print(\"Probability that Red is quality >=5: \", Prob)\n",
    "print(\"Red CI: \", Prob-z*SER, Prob+z*SER)\n",
    "print(\"Probability that White is  >=5: \", Prob2)\n",
    "print(\"White CI: \", Prob2-z*SER, Prob2+z*SER)\n",
    "\n"
   ]
  },
  {
   "cell_type": "markdown",
   "metadata": {},
   "source": [
    "Unlike the previous case, I would argue that there would not be a significant difference to in choosing one or the other considering the CI's"
   ]
  },
  {
   "cell_type": "markdown",
   "metadata": {},
   "source": [
    "**Part D:** Compute a 95% confidence interval for the difference in proportions of red and white wines that are at least a 5 in quality. \n",
    "\n",
    "Now, based on your results for this part, can you conclude that you are better off buying one color over the other? Fully justify your answer. How does your work here differ from your work in **Part C**?"
   ]
  },
  {
   "cell_type": "markdown",
   "metadata": {},
   "source": [
    "$$\n",
    "\\text{Ci for means, $\\mu_R - \\mu_W$, =}\\\\\n",
    "$$\n",
    "$$\n",
    "(\\hat{P1}_R - \\hat{P2}_W) \\pm z_{\\alpha/2}\\sqrt{\\frac{\\hat{P1}(1-\\hat{P1})}{m_r} + \\frac{\\hat{P2}(1-\\hat{P2})}{n_W}}\n",
    "$$\n",
    "$$\n",
    "\\text{We can calculate that a 95 percent confidence interval for $\\mu_R-\\mu_W$ is $[-0.171, -0.011]$}\\\\\n",
    "$$"
   ]
  },
  {
   "cell_type": "code",
   "execution_count": 26,
   "metadata": {},
   "outputs": [
    {
     "name": "stdout",
     "output_type": "stream",
     "text": [
      "Difference in CI between Red and White is:  -0.0129522363315 0.00887736409736\n"
     ]
    }
   ],
   "source": [
    "z = stats.norm.ppf(.975)\n",
    "SE = np.sqrt(((Prob*(1-Prob))/Rsample.quality.count()) + ((Prob2*(1-Prob2))/Wsample.quality.count()))\n",
    "print(\"Difference in CI between Red and White is: \", (Prob-Prob2)-z*SE, (Prob-Prob2)+z*SE)"
   ]
  },
  {
   "cell_type": "markdown",
   "metadata": {},
   "source": [
    "There is no difference in our statistics due to not going over 0 within the interval. So it would also call for no difference in choosing either wine."
   ]
  },
  {
   "cell_type": "markdown",
   "metadata": {},
   "source": [
    "**Part E:**  Now, we have many more observations of white wines than red. This certainly contributes to the width of the 95% confidence interval for the proportion of red wines that are at least a 5 in quality, which you should have found in **Part C** to be wider than the corresponding confidence interval for white wines. \n",
    "\n",
    "How large would our sample size of red wines need to be in order to guarantee that this 95% confidence interval width is at most 0.01? Note that we are hypothetically adding more samples, so we do not know the precise value of $\\hat{p}$."
   ]
  },
  {
   "cell_type": "markdown",
   "metadata": {},
   "source": [
    "$$\n",
    "t=0.05\\\\\n",
    "t=\\hat{P} \\pm Z_{\\alpha /2} \\cdot \\sqrt{\\frac{p(1-p)}{n}}\\\\ \n",
    "n=\\frac{p(1-p)}{(\\frac{0.005-\\hat{p}}{Z_{\\alpha /2}})^2}\\\\\n",
    "n=1223\n",
    "$$\n"
   ]
  },
  {
   "cell_type": "markdown",
   "metadata": {},
   "source": [
    "---\n",
    "\n",
    "<a id='p3'></a>\n",
    "[Back to top](#top)\n",
    "\n",
    "### [30 points] Problem 3 - Exploring Confidence Intervals \n",
    "\n",
    "The [Gumbel](https://en.wikipedia.org/wiki/Gumbel_distribution) distribution is one of several distributions frequently used to model environmental extremes (for example, extreme temperatures and sea levels).  It is also fairly asymmetric, and thus interesting for investigating confidence intervals.  It is implemented in scipy.stats as [gumbel_r](https://docs.scipy.org/doc/scipy/reference/generated/scipy.stats.gumbel_r.html), where the appendix \"\\_r\" denotes the right-skewed version of the Gumbel distribution (as opposed to the left-skewed)."
   ]
  },
  {
   "cell_type": "markdown",
   "metadata": {},
   "source": [
    "**Part A**: Complete the following code cell to plot a histogram of 100 realizations from the Gumbel distribution with parameters $\\mu=8$ and $\\beta=2$.  Be sure to leave this cell executed before turning in your assignment! Make your histogram grey with gold edges."
   ]
  },
  {
   "cell_type": "code",
   "execution_count": 32,
   "metadata": {},
   "outputs": [
    {
     "name": "stderr",
     "output_type": "stream",
     "text": [
      "/opt/conda/lib/python3.6/site-packages/matplotlib/axes/_axes.py:6571: UserWarning: The 'normed' kwarg is deprecated, and has been replaced by the 'density' kwarg.\n",
      "  warnings.warn(\"The 'normed' kwarg is deprecated, and has been \"\n"
     ]
    },
    {
     "data": {
      "image/png": "[encoded data removed]",
      "text/plain": [
       "<Figure size 1008x576 with 1 Axes>"
      ]
     },
     "metadata": {
      "needs_background": "light"
     },
     "output_type": "display_data"
    }
   ],
   "source": [
    "n_sample = 100\n",
    "mu = 8\n",
    "beta = 2\n",
    "graph= pd.Series(stats.gumbel_r.rvs(loc=mu, scale=beta, size=n_sample))\n",
    "fig, ax = plt.subplots(nrows=1, ncols=1, figsize=(14,8))\n",
    "graph.hist(ax=ax, normed=True, color=\"Blue\", bins=50, edgecolor=\"Yellow\", alpha=0.75)\n",
    "ax.set_xlabel(\"Distribution Value\", fontsize=16)\n",
    "ax.set_ylabel(\"Density\", fontsize=16)\n",
    "ax.grid(alpha=0.25)\n",
    "ax.set_axisbelow(True)    "
   ]
  },
  {
   "cell_type": "markdown",
   "metadata": {},
   "source": [
    "**Part B:** Look up the analytical mean and variance of the Gumbel distribution with parameters $\\mu=8$ and $\\beta=2$ and calculate them here by hand.  Note that the Euler–Mascheroni constant can be accessed via `np.euler_gamma`. \n",
    "\n",
    "Use the empirical mean from your sample in **Part A**, and the true variance of the Gumbel distribution to compute by hand a 95% confidence interval for the mean."
   ]
  },
  {
   "cell_type": "markdown",
   "metadata": {},
   "source": [
    "$$\n",
    "\\text{Mean = } \\mu + \\beta \\gamma\\\\\n",
    "= 9.154\\\\\n",
    "\\text{Variance = } \\frac{\\pi^2}{6}\\beta^2\\\\\n",
    "= 6.580\\\\\n",
    "$$\n",
    "$$\n",
    "\\text{Mean}= \\frac{935.155}{100}\\\\\n",
    "= 9.352\n",
    "$$\n",
    "$$\n",
    "\\text{CI:}\\\\\n",
    "\\text{95 = } \\alpha = 0.05\\\\\n",
    "\\bar{x} \\pm Z_{\\alpha /2} \\cdot \\frac{\\sigma}{\\sqrt{n}}\\\\\n",
    "Z = \\text{PPF}(~0.025~) = -1.960 \\\\\n",
    "$$ \n",
    "\n",
    "$$\n",
    "CI = [~8.849, 9.854~]\\\\\n",
    "$$"
   ]
  },
  {
   "cell_type": "code",
   "execution_count": 38,
   "metadata": {},
   "outputs": [
    {
     "name": "stdout",
     "output_type": "stream",
     "text": [
      "(8.3381496438131784, 9.3436502340112639)\n",
      "-1.95996398454\n"
     ]
    }
   ],
   "source": [
    "x= g.sum()/n_sample\n",
    "\n",
    "mean= 8 + 2*np.euler_gamma\n",
    "\n",
    "var= ((math.pi**2)/6)*2**2\n",
    "\n",
    "z= stats.norm.ppf((1-0.95)/2)\n",
    "\n",
    "cmin=x + (z*math.sqrt(var/n_sample))\n",
    "cmax= x - (z*math.sqrt(var/n_sample))\n",
    "\n",
    "print ((cmin,cmax))\n",
    "print (z)\n"
   ]
  },
  {
   "cell_type": "markdown",
   "metadata": {},
   "source": [
    "**Part C:  A theoretical interlude.** When Stella O'Flaherty (the famous octopus) ran her solution code for **Part B**, she obtained a 95% confidence interval of $[8.81, 9.82]$ for the mean of the $Gum(\\mu=8, \\beta=2)$ distribution. For each of the following, explain why or why not the situation described is correct, given the technical definition of a 95% confidence interval we went over in class.\n",
    "\n",
    "**(i)** If you had no other evidence regarding true mean of the $Gum(\\mu=8, \\beta=2)$ distribution, you could say there is a 95% chance that its true mean falls between 8.81 and 9.82.\n",
    "\n",
    "**(ii)** If a class of 100 students all construct 95% confidence intervals for the mean of the $Gum(\\mu=8, \\beta=2)$ distribution, then we expect about 95 of their CIs to contain the true mean, and about 5 of them to miss the true mean.\n",
    "\n",
    "**(iii)** There is a 95% probability that any given random variable sampled from $Gum(\\mu=8, \\beta=2)$ will be between 8.81 and 9.82."
   ]
  },
  {
   "cell_type": "markdown",
   "metadata": {},
   "source": [
    "i)This is correct because 95% of CI's contain the true mean but the other 5% doesn't.\n",
    "\n",
    "ii) True, the CI is a random variable itself, 95 of 100 would contain the true mean if took 95 percent of 95 CI.\n",
    "\n",
    "iii) False. We cannot say anything about a particular random variable. Increasing our sample size will only make our interval of the expected valie more accurate through direct causation."
   ]
  },
  {
   "cell_type": "markdown",
   "metadata": {},
   "source": [
    "**Part D:** In this part you'll write a function to investigate the _coverage properties_ of a confidence interval for the mean of the Gumbel distribution. Complete the following function to randomly sample $m=500$ sample means with sample size $n=100$ for the Gumbel distribution with parameters $\\mu=8$ and $\\beta=2$.  For each random sample, compute the 66% confidence interval for the mean. Note that you actually know that the variance for the true population distribution is, $\\sigma^2$.  Your function should do two things: \n",
    "\n",
    "1. Report the proportion of confidence intervals that successfully cover the true mean of the distribution \n",
    "2. Make a plot of 50 randomly selected confidence intervals. Overlay the intervals on the line $y=\\textrm{True mean}$ (from **Part B**). Color confidence intervals black if they cover the true mean, and red if they don't.  \n",
    "\n",
    "Be sure to leave this cell executed before turning in your assignment!"
   ]
  },
  {
   "cell_type": "code",
   "execution_count": 42,
   "metadata": {
    "scrolled": false
   },
   "outputs": [
    {
     "name": "stdout",
     "output_type": "stream",
     "text": [
      "Number match 323\n",
      "Mean: 0.646\n"
     ]
    },
    {
     "data": {
      "image/png": "[encoded data removed]",
      "text/plain": [
       "<Figure size 1008x576 with 1 Axes>"
      ]
     },
     "metadata": {
      "needs_background": "light"
     },
     "output_type": "display_data"
    }
   ],
   "source": [
    "def confidence_intervals(m=500, n=100):\n",
    "    #givens\n",
    "    mu = 8\n",
    "    beta = 2\n",
    "    temp = []\n",
    "    CI= []\n",
    "    num_match = 0\n",
    "    mean = 8 + 2*np.euler_gamma\n",
    "    var_= ((math.pi**2)/6)*2**2\n",
    "    z = stats.norm.ppf((1-.66)/2)\n",
    "    fig, ax = plt.subplots(nrows=1, ncols=1, figsize=(14,8))\n",
    "    ax.plot([0, 500], [mean, mean], color=\"Red\", lw=3)\n",
    "    for i in range(0,m):\n",
    "        gr= pd.Series(stats.gumbel_r.rvs(loc=mu, scale=beta, size=n))\n",
    "        temp.append(gr)\n",
    "        x= gr.sum()/n\n",
    "        CImin= x + (z*math.sqrt(var_/n))\n",
    "        CImax= x - (z*math.sqrt(var_/n))\n",
    "        CI.append([CImax,CImin])\n",
    "        if (mean > CImin and mean < CImax):\n",
    "            num_match += 1\n",
    "            ax.plot([i, i], [CImin, CImax], color= \"Blue\")\n",
    "        else:\n",
    "            ax.plot([i, i], [CImin, CImax], color= \"Yellow\")\n",
    "    Proportion= num_match/m\n",
    "    print (\"Number match\", num_match)\n",
    "    print(\"Mean:\",(Proportion))\n",
    "confidence_intervals()"
   ]
  },
  {
   "cell_type": "markdown",
   "metadata": {},
   "source": [
    "**Part E:** Does the proportion of confidence intervals that cover the true mean of the distribution agree with the theory described in class?  Justify your conclusion. "
   ]
  },
  {
   "cell_type": "markdown",
   "metadata": {},
   "source": [
    "Yes, we wanted a 66% CI and we got the plot to show that 0.662 of the CI's are covered. Yes!"
   ]
  },
  {
   "cell_type": "markdown",
   "metadata": {
    "collapsed": true
   },
   "source": [
    "---\n",
    "\n",
    "<a id='p4'></a>\n",
    "[Back to top](#top)\n",
    "\n",
    "### [15 points] Problem 4 - Freethrows\n",
    "***\n",
    "\n",
    "Keep your skills sharp by answering these straightforward questions."
   ]
  },
  {
   "cell_type": "markdown",
   "metadata": {},
   "source": [
    "**Part A**: <font color='green'>You are driving through the paint toward the basket when Steph Curry fouls you. You step to the line to sink this freethrow shot, which is delivered in the form of a CSCI3022 problem:</font>\n",
    "\n",
    "You have a shuffled deck of cards. It includes the usual 52 cards AND three special additional Octopus cards. You flip over the cards one by one, without replacing them in the deck. You count how many cards you'll have to flip until you flip over the second Octopus.  You repeat this many times. Simulate this process. Plot a histogram with binsize=1 of the outcomes, in lightgrey with white outline. Compute the mean, median, and mode for this dataset, indicate them on the plot too, using linstyles of green dashed, pink dotted, and black solid, respectively. Look up how to do a legend in MatPlotLib, and label your histogram, mean, median.\n",
    "***"
   ]
  },
  {
   "cell_type": "code",
   "execution_count": 48,
   "metadata": {},
   "outputs": [
    {
     "name": "stdout",
     "output_type": "stream",
     "text": [
      "Mean=  33.2318\n",
      "Median=  34.0\n",
      "Mode=  41\n"
     ]
    }
   ],
   "source": [
    "def simulation(n_trials):\n",
    "    hand = np.zeros(n_trials,dtype = int)\n",
    "    for i in range(n_trials):\n",
    "        Octo_hand = np.array(list(range(0,14))*4)-1\n",
    "        np.random.shuffle(Octo_hand)\n",
    "        Octo_ = Octo_hand == 3\n",
    "        hand[i] = np.where(np.cumsum(Octo_) == 3)[0][0]\n",
    "    return hand\n",
    "value = simulation(10000)\n",
    "print(\"Mean= \" ,np.mean(value))\n",
    "print(\"Median= \", np.median(value))\n",
    "print(\"Mode= \", stats.mode(value,axis=None).mode[0])"
   ]
  },
  {
   "cell_type": "code",
   "execution_count": 54,
   "metadata": {},
   "outputs": [
    {
     "name": "stderr",
     "output_type": "stream",
     "text": [
      "/opt/conda/lib/python3.6/site-packages/matplotlib/axes/_axes.py:6571: UserWarning: The 'normed' kwarg is deprecated, and has been replaced by the 'density' kwarg.\n",
      "  warnings.warn(\"The 'normed' kwarg is deprecated, and has been \"\n"
     ]
    },
    {
     "data": {
      "text/plain": [
       "<matplotlib.legend.Legend at 0x7fa275900cf8>"
      ]
     },
     "execution_count": 54,
     "metadata": {},
     "output_type": "execute_result"
    },
    {
     "data": {
      "image/png": "[encoded data removed]",
      "text/plain": [
       "<Figure size 1008x576 with 1 Axes>"
      ]
     },
     "metadata": {
      "needs_background": "light"
     },
     "output_type": "display_data"
    }
   ],
   "source": [
    "fig, ax = plt.subplots(nrows=1, ncols=1, figsize=(14,8))\n",
    "pd.Series(x).hist(ax = ax, color = \"blue\", edgecolor = \"red\", bins = 52, normed = True,label = \"Distribution\")\n",
    "y = ax.get_ylim()\n",
    "ax.grid(alpha = 0.25)\n",
    "ax.set_axisbelow(True)\n",
    "ax.plot(stats.mode(x,axis = None).mode[0]*np.ones(2),y,c = 'yellow',zorder = 2,lw = 4,label = \"Mode\")\n",
    "ax.plot(np.mean(x)*np.ones(2),y,c = 'black',zorder = 4,lw = 6,label = \"Mean\")\n",
    "ax.plot(np.median(x)*np.ones(2),y,c = 'violet',zorder = 4,lw = 6,label = \"Median\")\n",
    "ax.legend()"
   ]
  },
  {
   "cell_type": "markdown",
   "metadata": {},
   "source": [
    "**Part B**: <font color='green'>You sink your first free throw and immediately get dap from your teammates, Oscar O'Flaherty and Octavia O'Flaherty. You prepare to take another shot, which—and you're not going to believe this—is another CSCI3022 problem:</font>\n",
    "\n",
    "In general, which is wider: a 95% confidence interval or a 99% confidence interval? How would you explain this to your younger sibling, who is not a statistician?\n",
    "***"
   ]
  },
  {
   "cell_type": "markdown",
   "metadata": {},
   "source": [
    "We can conclude that the 99% confidence interval is wider since it has more room to contain the true mean. A 99% confidence interval is wider since it will give you the exact true mean 99% of the time."
   ]
  },
  {
   "cell_type": "markdown",
   "metadata": {},
   "source": [
    "**Part C**: <font color='green'>The crowd is silent. Everything is slow motion. You're literally in the air, releasing what looks to be a perfect shot to tie the match. As you release the ball, a hand appears to block it. It is Kevin Durant. :( \n",
    "\n",
    "Luckily, his fingertips also brush against your arm. That's a foul, and everyone saw it. Back to the line. Back to CSCI3022:</font>\n",
    "\n",
    "Let $X$ be a normally-distributed random variable. You draw from it and get these values, stored in the numpy array **durant**, below. Compute a 95% confidence interval for the _standard deviation_.\n",
    "***"
   ]
  },
  {
   "cell_type": "code",
   "execution_count": 56,
   "metadata": {},
   "outputs": [],
   "source": [
    "durant = np.array([3.7778,3.9459,3.8248,4.1111,4.0180,4.0898,4.0380,3.9273,3.9614,3.8387])"
   ]
  },
  {
   "cell_type": "code",
   "execution_count": 60,
   "metadata": {},
   "outputs": [
    {
     "name": "stdout",
     "output_type": "stream",
     "text": [
      "Standard Deviation is : 0.113595430268\n",
      "Confidence Interval is : [0.07813493626414877, 0.20738097418499923]\n"
     ]
    }
   ],
   "source": [
    "var_ = np.var(durant,ddof=1)\n",
    "alpha = 0.05;\n",
    "one = math.sqrt((len(durant)-1)*var_/stats.chi2.ppf(1-alpha/2,len(durant)-1))\n",
    "two = math.sqrt((len(durant)-1)*var_/stats.chi2.ppf(alpha/2,len(durant)-1))\n",
    "print(\"Standard Deviation is :\" ,np.sqrt(var_))\n",
    "print(\"Confidence Interval is :\", [one, two])"
   ]
  },
  {
   "cell_type": "markdown",
   "metadata": {},
   "source": [
    "**Part D**: <font color='green'>\"Draymond Green has it all, in spite of living in the Bay Area,\" you think to yourself. \"But he doesn't have this shot...\" You're all over him, and he's going to have to pass. You can see the irritation in his eyes. Then you realize that it's not irritation, and he's not being distracted by your superb defense. He's being distracted by this CSCI3022 problem:</font>\n",
    "\n",
    "If you're doing quality control for the average strength of carbon fiber that will be used in airplane construction, and your alternative hypothesis is that the strength of the carbon is below tolerance, and therefore unsafe, would you rather have a low Type I error rate or a low Type II error rate? Explain.\n",
    "\n",
    "***"
   ]
  },
  {
   "cell_type": "markdown",
   "metadata": {},
   "source": [
    "I would do Type II, We can reduce our risk of making a Type II error by making sure our test has enough power which depends on whether the sample size is sufficiently large enough to detect a difference as it exist or not."
   ]
  },
  {
   "cell_type": "markdown",
   "metadata": {},
   "source": [
    "**Part E**: <font color='green'>You are watching tape footage at halftime with your personal trainer, Stella O'Flaherty. You gotta focus up if you're going to match Klay Thompson's speed in the second half. You take a sip of Gatorade and Dr. O'Flaherty suggests that you do the following CSCI3022 problem:</font>\n",
    "\n",
    "You measure 53 suckers from baby reef octopuses and find that they are, on average, 45.2 mm wide, with a standard devaition of 30.4mm. \n",
    "\n",
    "Then you measure 41 suckers from from baby dumbo octopuses and find that they are, on average, 52.8 mm wide, with a standard deviation of 22.8 mm. \n",
    "\n",
    "Is there statistical evidence at the 0.05 significance level that the true mean of baby dumbo octopus sucker width exceeds the true mean of baby reef octopus sucker width by more than 6 mm?  Use a test of your choice.\n",
    "\n",
    "***"
   ]
  },
  {
   "cell_type": "markdown",
   "metadata": {},
   "source": [
    "$$ \n",
    "\\text{Plug n Chug}\\\\\n",
    "\\bar{x}_\\text{sea} = 52.8 \\\\\n",
    "\\bar{x}_\\text{river} = 45.2 \\\\\n",
    "\\sigma_\\text{sea} = 22.8 \\\\\n",
    "\\sigma_\\text{river} = 30.4 \\\\\n",
    "z = \\frac{52.8 - 45.2 - 6}{\\sqrt{\\frac{22.8^2}{41} + \\frac{30.4^2}{53}}} \\\\\n",
    "z = 0.29\n",
    "$$"
   ]
  },
  {
   "cell_type": "code",
   "execution_count": 62,
   "metadata": {},
   "outputs": [
    {
     "name": "stdout",
     "output_type": "stream",
     "text": [
      "The z_critical is:  1.64485362695\n"
     ]
    }
   ],
   "source": [
    "z_crit = stats.norm.ppf(0.95)\n",
    "print(\"The z_critical is: \",z_crit)"
   ]
  },
  {
   "cell_type": "code",
   "execution_count": 63,
   "metadata": {},
   "outputs": [
    {
     "name": "stdout",
     "output_type": "stream",
     "text": [
      "p-value = 0.385296237717\n"
     ]
    }
   ],
   "source": [
    "p_val = 1-stats.norm.cdf(0.2916)\n",
    "print(\"p-value =\",p_val)"
   ]
  },
  {
   "cell_type": "markdown",
   "metadata": {},
   "source": [
    "We can reject the null hypothesis since its greater than the needed 0.05"
   ]
  },
  {
   "cell_type": "code",
   "execution_count": null,
   "metadata": {},
   "outputs": [],
   "source": []
  }
 ],
 "metadata": {
  "kernelspec": {
   "display_name": "Python 3",
   "language": "python",
   "name": "python3"
  },
  "language_info": {
   "codemirror_mode": {
    "name": "ipython",
    "version": 3
   },
   "file_extension": ".py",
   "mimetype": "text/x-python",
   "name": "python",
   "nbconvert_exporter": "python",
   "pygments_lexer": "ipython3",
   "version": "3.6.6"
  }
 },
 "nbformat": 4,
 "nbformat_minor": 2
}
